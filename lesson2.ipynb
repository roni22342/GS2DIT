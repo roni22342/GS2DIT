{
  "nbformat": 4,
  "nbformat_minor": 0,
  "metadata": {
    "colab": {
      "provenance": [],
      "toc_visible": true,
      "authorship_tag": "ABX9TyNwIwPlIULfG5KECPsmGb/X",
      "include_colab_link": true
    },
    "kernelspec": {
      "name": "python3",
      "display_name": "Python 3"
    },
    "language_info": {
      "name": "python"
    },
    "accelerator": "GPU",
    "gpuClass": "standard"
  },
  "cells": [
    {
      "cell_type": "markdown",
      "metadata": {
        "id": "view-in-github",
        "colab_type": "text"
      },
      "source": [
        "<a href=\"https://colab.research.google.com/github/roni22342/GS2DIT/blob/main/lesson2.ipynb\" target=\"_parent\"><img src=\"https://colab.research.google.com/assets/colab-badge.svg\" alt=\"Open In Colab\"/></a>"
      ]
    },
    {
      "cell_type": "code",
      "execution_count": null,
      "metadata": {
        "id": "KCc9pS3hHQ6d"
      },
      "outputs": [],
      "source": []
    },
    {
      "cell_type": "markdown",
      "source": [],
      "metadata": {
        "id": "lFLtbblwJiSe"
      }
    },
    {
      "cell_type": "markdown",
      "source": [
        "#Section1\n"
      ],
      "metadata": {
        "id": "nX6jF8W4Lisk"
      }
    },
    {
      "cell_type": "code",
      "source": [
        "a=1"
      ],
      "metadata": {
        "id": "U1WfNG4pLyDZ"
      },
      "execution_count": 1,
      "outputs": []
    },
    {
      "cell_type": "code",
      "source": [
        "b=2"
      ],
      "metadata": {
        "id": "mbAgKXqkL2YU"
      },
      "execution_count": 2,
      "outputs": []
    },
    {
      "cell_type": "code",
      "source": [
        "a+b"
      ],
      "metadata": {
        "colab": {
          "base_uri": "https://localhost:8080/"
        },
        "id": "-O40LvheL5Ws",
        "outputId": "9dbb5d8d-ed94-4e00-c919-d8244c6807a4"
      },
      "execution_count": 4,
      "outputs": [
        {
          "output_type": "execute_result",
          "data": {
            "text/plain": [
              "3"
            ]
          },
          "metadata": {},
          "execution_count": 4
        }
      ]
    },
    {
      "cell_type": "markdown",
      "source": [
        "#Section2"
      ],
      "metadata": {
        "id": "bmXbyNcXLqVU"
      }
    },
    {
      "cell_type": "markdown",
      "source": [
        "print(\"hello world\") **bold text**"
      ],
      "metadata": {
        "id": "vUEM2EKaMfN-"
      }
    },
    {
      "cell_type": "markdown",
      "source": [
        "print(\"hello world\")*italicized text*"
      ],
      "metadata": {
        "id": "6qCFMfApNEBv"
      }
    },
    {
      "cell_type": "markdown",
      "source": [
        "print(\"hello world\")\n",
        "\n",
        "```\n",
        "# This is formatted as code\n",
        "```\n",
        "\n"
      ],
      "metadata": {
        "id": "Cf562TpCNUUW"
      }
    }
  ]
}