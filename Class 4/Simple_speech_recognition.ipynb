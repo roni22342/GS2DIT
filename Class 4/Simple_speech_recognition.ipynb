{
  "cells": [
    {
      "cell_type": "markdown",
      "metadata": {
        "id": "view-in-github",
        "colab_type": "text"
      },
      "source": [
        "<a href=\"https://colab.research.google.com/github/roni22342/GS2DIT/blob/main/Class%204/Simple_speech_recognition.ipynb\" target=\"_parent\"><img src=\"https://colab.research.google.com/assets/colab-badge.svg\" alt=\"Open In Colab\"/></a>"
      ]
    },
    {
      "cell_type": "markdown",
      "source": [
        "Code source: https://colab.research.google.com/github/tensorflow/docs/blob/master/site/en/tutorials/audio/simple_audio.ipynb#scrollTo=wTAg4vsn3oEb"
      ],
      "metadata": {
        "id": "B81jKekEobND"
      }
    },
    {
      "cell_type": "markdown",
      "metadata": {
        "id": "fluF3_oOgkWF"
      },
      "source": [
        "##### Copyright 2020 The TensorFlow Authors."
      ]
    },
    {
      "cell_type": "code",
      "execution_count": null,
      "metadata": {
        "cellView": "form",
        "id": "AJs7HHFmg1M9"
      },
      "outputs": [],
      "source": [
        "#@title Licensed under the Apache License, Version 2.0 (the \"License\");\n",
        "# you may not use this file except in compliance with the License.\n",
        "# You may obtain a copy of the License at\n",
        "#\n",
        "# https://www.apache.org/licenses/LICENSE-2.0\n",
        "#\n",
        "# Unless required by applicable law or agreed to in writing, software\n",
        "# distributed under the License is distributed on an \"AS IS\" BASIS,\n",
        "# WITHOUT WARRANTIES OR CONDITIONS OF ANY KIND, either express or implied.\n",
        "# See the License for the specific language governing permissions and\n",
        "# limitations under the License."
      ]
    },
    {
      "cell_type": "markdown",
      "metadata": {
        "id": "jYysdyb-CaWM"
      },
      "source": [
        "# Simple audio recognition: Recognizing keywords"
      ]
    },
    {
      "cell_type": "markdown",
      "metadata": {
        "id": "CNbqmZy0gbyE"
      },
      "source": [
        "<table class=\"tfo-notebook-buttons\" align=\"left\">\n",
        "  <td>\n",
        "    <a target=\"_blank\" href=\"https://colab.research.google.com/drive/1Ga0X5AwxcpYIH55vgMxBawa9_tjW7KIL#scrollTo=CNbqmZy0gbyE\">\n",
        "    <img src=\"https://www.tensorflow.org/images/colab_logo_32px.png\" />\n",
        "    Run in Google Colab</a>\n",
        "  </td>\n",
        "</table>"
      ]
    },
    {
      "cell_type": "markdown",
      "metadata": {
        "id": "SPfDNFlb66XF"
      },
      "source": [
        "This tutorial demonstrates how to preprocess audio files in the WAV format and build and train a basic [automatic speech recognition](https://en.wikipedia.org/wiki/Speech_recognition) (ASR) model for recognizing ten different words. You will use a portion of the [Speech Commands dataset](https://www.tensorflow.org/datasets/catalog/speech_commands) ([Warden, 2018](https://arxiv.org/abs/1804.03209)), which contains short (one-second or less) audio clips of commands, such as \"down\", \"go\", \"left\", \"no\", \"right\", \"stop\", \"up\" and \"yes\"."
      ]
    },
    {
      "cell_type": "markdown",
      "metadata": {
        "id": "Go9C3uLL8Izc"
      },
      "source": [
        "## Setup\n",
        "\n",
        "Download and install necessary dependencies"
      ]
    },
    {
      "cell_type": "code",
      "source": [
        "!pip install tensorflow==2.10 tensorflow_datasets\n",
        "!apt install --allow-change-held-packages libcudnn8=8.1.0.77-1+cuda11.2"
      ],
      "metadata": {
        "id": "2tuvqtpIzKXK",
        "outputId": "722264de-29c8-4fef-ad91-29be8ead3ee9",
        "colab": {
          "base_uri": "https://localhost:8080/",
          "height": 1000
        }
      },
      "execution_count": null,
      "outputs": [
        {
          "output_type": "stream",
          "name": "stdout",
          "text": [
            "Looking in indexes: https://pypi.org/simple, https://us-python.pkg.dev/colab-wheels/public/simple/\n",
            "Collecting tensorflow==2.10\n",
            "  Downloading tensorflow-2.10.0-cp39-cp39-manylinux_2_17_x86_64.manylinux2014_x86_64.whl (578.1 MB)\n",
            "\u001b[2K     \u001b[90m━━━━━━━━━━━━━━━━━━━━━━━━━━━━━━━━━━━━━━━\u001b[0m \u001b[32m578.1/578.1 MB\u001b[0m \u001b[31m2.1 MB/s\u001b[0m eta \u001b[36m0:00:00\u001b[0m\n",
            "\u001b[?25hRequirement already satisfied: tensorflow_datasets in /usr/local/lib/python3.9/dist-packages (4.8.3)\n",
            "Requirement already satisfied: opt-einsum>=2.3.2 in /usr/local/lib/python3.9/dist-packages (from tensorflow==2.10) (3.3.0)\n",
            "Requirement already satisfied: h5py>=2.9.0 in /usr/local/lib/python3.9/dist-packages (from tensorflow==2.10) (3.8.0)\n",
            "Requirement already satisfied: google-pasta>=0.1.1 in /usr/local/lib/python3.9/dist-packages (from tensorflow==2.10) (0.2.0)\n",
            "Requirement already satisfied: numpy>=1.20 in /usr/local/lib/python3.9/dist-packages (from tensorflow==2.10) (1.22.4)\n",
            "Requirement already satisfied: typing-extensions>=3.6.6 in /usr/local/lib/python3.9/dist-packages (from tensorflow==2.10) (4.5.0)\n",
            "Requirement already satisfied: absl-py>=1.0.0 in /usr/local/lib/python3.9/dist-packages (from tensorflow==2.10) (1.4.0)\n",
            "Collecting keras<2.11,>=2.10.0\n",
            "  Downloading keras-2.10.0-py2.py3-none-any.whl (1.7 MB)\n",
            "\u001b[2K     \u001b[90m━━━━━━━━━━━━━━━━━━━━━━━━━━━━━━━━━━━━━━━━\u001b[0m \u001b[32m1.7/1.7 MB\u001b[0m \u001b[31m57.3 MB/s\u001b[0m eta \u001b[36m0:00:00\u001b[0m\n",
            "\u001b[?25hRequirement already satisfied: six>=1.12.0 in /usr/local/lib/python3.9/dist-packages (from tensorflow==2.10) (1.16.0)\n",
            "Requirement already satisfied: termcolor>=1.1.0 in /usr/local/lib/python3.9/dist-packages (from tensorflow==2.10) (2.2.0)\n",
            "Collecting tensorboard<2.11,>=2.10\n",
            "  Downloading tensorboard-2.10.1-py3-none-any.whl (5.9 MB)\n",
            "\u001b[2K     \u001b[90m━━━━━━━━━━━━━━━━━━━━━━━━━━━━━━━━━━━━━━━━\u001b[0m \u001b[32m5.9/5.9 MB\u001b[0m \u001b[31m68.7 MB/s\u001b[0m eta \u001b[36m0:00:00\u001b[0m\n",
            "\u001b[?25hRequirement already satisfied: flatbuffers>=2.0 in /usr/local/lib/python3.9/dist-packages (from tensorflow==2.10) (23.3.3)\n",
            "Requirement already satisfied: grpcio<2.0,>=1.24.3 in /usr/local/lib/python3.9/dist-packages (from tensorflow==2.10) (1.53.0)\n",
            "Requirement already satisfied: tensorflow-io-gcs-filesystem>=0.23.1 in /usr/local/lib/python3.9/dist-packages (from tensorflow==2.10) (0.32.0)\n",
            "Requirement already satisfied: wrapt>=1.11.0 in /usr/local/lib/python3.9/dist-packages (from tensorflow==2.10) (1.14.1)\n",
            "Requirement already satisfied: packaging in /usr/local/lib/python3.9/dist-packages (from tensorflow==2.10) (23.0)\n",
            "Collecting tensorflow-estimator<2.11,>=2.10.0\n",
            "  Downloading tensorflow_estimator-2.10.0-py2.py3-none-any.whl (438 kB)\n",
            "\u001b[2K     \u001b[90m━━━━━━━━━━━━━━━━━━━━━━━━━━━━━━━━━━━━━━\u001b[0m \u001b[32m438.7/438.7 KB\u001b[0m \u001b[31m28.6 MB/s\u001b[0m eta \u001b[36m0:00:00\u001b[0m\n",
            "\u001b[?25hRequirement already satisfied: astunparse>=1.6.0 in /usr/local/lib/python3.9/dist-packages (from tensorflow==2.10) (1.6.3)\n",
            "Requirement already satisfied: libclang>=13.0.0 in /usr/local/lib/python3.9/dist-packages (from tensorflow==2.10) (16.0.0)\n",
            "Requirement already satisfied: gast<=0.4.0,>=0.2.1 in /usr/local/lib/python3.9/dist-packages (from tensorflow==2.10) (0.4.0)\n",
            "Requirement already satisfied: setuptools in /usr/local/lib/python3.9/dist-packages (from tensorflow==2.10) (67.6.1)\n",
            "Collecting keras-preprocessing>=1.1.1\n",
            "  Downloading Keras_Preprocessing-1.1.2-py2.py3-none-any.whl (42 kB)\n",
            "\u001b[2K     \u001b[90m━━━━━━━━━━━━━━━━━━━━━━━━━━━━━━━━━━━━━━━━\u001b[0m \u001b[32m42.6/42.6 KB\u001b[0m \u001b[31m3.1 MB/s\u001b[0m eta \u001b[36m0:00:00\u001b[0m\n",
            "\u001b[?25hCollecting protobuf<3.20,>=3.9.2\n",
            "  Downloading protobuf-3.19.6-cp39-cp39-manylinux_2_17_x86_64.manylinux2014_x86_64.whl (1.1 MB)\n",
            "\u001b[2K     \u001b[90m━━━━━━━━━━━━━━━━━━━━━━━━━━━━━━━━━━━━━━━━\u001b[0m \u001b[32m1.1/1.1 MB\u001b[0m \u001b[31m28.9 MB/s\u001b[0m eta \u001b[36m0:00:00\u001b[0m\n",
            "\u001b[?25hRequirement already satisfied: dm-tree in /usr/local/lib/python3.9/dist-packages (from tensorflow_datasets) (0.1.8)\n",
            "Requirement already satisfied: requests>=2.19.0 in /usr/local/lib/python3.9/dist-packages (from tensorflow_datasets) (2.27.1)\n",
            "Requirement already satisfied: tensorflow-metadata in /usr/local/lib/python3.9/dist-packages (from tensorflow_datasets) (1.12.0)\n",
            "Requirement already satisfied: etils[enp,epath]>=0.9.0 in /usr/local/lib/python3.9/dist-packages (from tensorflow_datasets) (1.1.1)\n",
            "Requirement already satisfied: psutil in /usr/local/lib/python3.9/dist-packages (from tensorflow_datasets) (5.9.4)\n",
            "Requirement already satisfied: tqdm in /usr/local/lib/python3.9/dist-packages (from tensorflow_datasets) (4.65.0)\n",
            "Requirement already satisfied: click in /usr/local/lib/python3.9/dist-packages (from tensorflow_datasets) (8.1.3)\n",
            "Requirement already satisfied: toml in /usr/local/lib/python3.9/dist-packages (from tensorflow_datasets) (0.10.2)\n",
            "Requirement already satisfied: promise in /usr/local/lib/python3.9/dist-packages (from tensorflow_datasets) (2.3)\n",
            "Requirement already satisfied: wheel<1.0,>=0.23.0 in /usr/local/lib/python3.9/dist-packages (from astunparse>=1.6.0->tensorflow==2.10) (0.40.0)\n",
            "Requirement already satisfied: zipp in /usr/local/lib/python3.9/dist-packages (from etils[enp,epath]>=0.9.0->tensorflow_datasets) (3.15.0)\n",
            "Requirement already satisfied: importlib_resources in /usr/local/lib/python3.9/dist-packages (from etils[enp,epath]>=0.9.0->tensorflow_datasets) (5.12.0)\n",
            "Requirement already satisfied: urllib3<1.27,>=1.21.1 in /usr/local/lib/python3.9/dist-packages (from requests>=2.19.0->tensorflow_datasets) (1.26.15)\n",
            "Requirement already satisfied: charset-normalizer~=2.0.0 in /usr/local/lib/python3.9/dist-packages (from requests>=2.19.0->tensorflow_datasets) (2.0.12)\n",
            "Requirement already satisfied: idna<4,>=2.5 in /usr/local/lib/python3.9/dist-packages (from requests>=2.19.0->tensorflow_datasets) (3.4)\n",
            "Requirement already satisfied: certifi>=2017.4.17 in /usr/local/lib/python3.9/dist-packages (from requests>=2.19.0->tensorflow_datasets) (2022.12.7)\n",
            "Requirement already satisfied: google-auth<3,>=1.6.3 in /usr/local/lib/python3.9/dist-packages (from tensorboard<2.11,>=2.10->tensorflow==2.10) (2.17.1)\n",
            "Requirement already satisfied: google-auth-oauthlib<0.5,>=0.4.1 in /usr/local/lib/python3.9/dist-packages (from tensorboard<2.11,>=2.10->tensorflow==2.10) (0.4.6)\n",
            "Requirement already satisfied: markdown>=2.6.8 in /usr/local/lib/python3.9/dist-packages (from tensorboard<2.11,>=2.10->tensorflow==2.10) (3.4.3)\n",
            "Requirement already satisfied: werkzeug>=1.0.1 in /usr/local/lib/python3.9/dist-packages (from tensorboard<2.11,>=2.10->tensorflow==2.10) (2.2.3)\n",
            "Requirement already satisfied: tensorboard-plugin-wit>=1.6.0 in /usr/local/lib/python3.9/dist-packages (from tensorboard<2.11,>=2.10->tensorflow==2.10) (1.8.1)\n",
            "Collecting tensorboard-data-server<0.7.0,>=0.6.0\n",
            "  Downloading tensorboard_data_server-0.6.1-py3-none-manylinux2010_x86_64.whl (4.9 MB)\n",
            "\u001b[2K     \u001b[90m━━━━━━━━━━━━━━━━━━━━━━━━━━━━━━━━━━━━━━━━\u001b[0m \u001b[32m4.9/4.9 MB\u001b[0m \u001b[31m57.8 MB/s\u001b[0m eta \u001b[36m0:00:00\u001b[0m\n",
            "\u001b[?25hRequirement already satisfied: googleapis-common-protos<2,>=1.52.0 in /usr/local/lib/python3.9/dist-packages (from tensorflow-metadata->tensorflow_datasets) (1.59.0)\n",
            "Requirement already satisfied: rsa<5,>=3.1.4 in /usr/local/lib/python3.9/dist-packages (from google-auth<3,>=1.6.3->tensorboard<2.11,>=2.10->tensorflow==2.10) (4.9)\n",
            "Requirement already satisfied: pyasn1-modules>=0.2.1 in /usr/local/lib/python3.9/dist-packages (from google-auth<3,>=1.6.3->tensorboard<2.11,>=2.10->tensorflow==2.10) (0.2.8)\n",
            "Requirement already satisfied: cachetools<6.0,>=2.0.0 in /usr/local/lib/python3.9/dist-packages (from google-auth<3,>=1.6.3->tensorboard<2.11,>=2.10->tensorflow==2.10) (5.3.0)\n",
            "Requirement already satisfied: requests-oauthlib>=0.7.0 in /usr/local/lib/python3.9/dist-packages (from google-auth-oauthlib<0.5,>=0.4.1->tensorboard<2.11,>=2.10->tensorflow==2.10) (1.3.1)\n",
            "Requirement already satisfied: importlib-metadata>=4.4 in /usr/local/lib/python3.9/dist-packages (from markdown>=2.6.8->tensorboard<2.11,>=2.10->tensorflow==2.10) (6.1.0)\n",
            "Requirement already satisfied: MarkupSafe>=2.1.1 in /usr/local/lib/python3.9/dist-packages (from werkzeug>=1.0.1->tensorboard<2.11,>=2.10->tensorflow==2.10) (2.1.2)\n",
            "Requirement already satisfied: pyasn1<0.5.0,>=0.4.6 in /usr/local/lib/python3.9/dist-packages (from pyasn1-modules>=0.2.1->google-auth<3,>=1.6.3->tensorboard<2.11,>=2.10->tensorflow==2.10) (0.4.8)\n",
            "Requirement already satisfied: oauthlib>=3.0.0 in /usr/local/lib/python3.9/dist-packages (from requests-oauthlib>=0.7.0->google-auth-oauthlib<0.5,>=0.4.1->tensorboard<2.11,>=2.10->tensorflow==2.10) (3.2.2)\n",
            "Installing collected packages: keras, tensorflow-estimator, tensorboard-data-server, protobuf, keras-preprocessing, tensorboard, tensorflow\n",
            "  Attempting uninstall: keras\n",
            "    Found existing installation: keras 2.12.0\n",
            "    Uninstalling keras-2.12.0:\n",
            "      Successfully uninstalled keras-2.12.0\n",
            "  Attempting uninstall: tensorflow-estimator\n",
            "    Found existing installation: tensorflow-estimator 2.12.0\n",
            "    Uninstalling tensorflow-estimator-2.12.0:\n",
            "      Successfully uninstalled tensorflow-estimator-2.12.0\n",
            "  Attempting uninstall: tensorboard-data-server\n",
            "    Found existing installation: tensorboard-data-server 0.7.0\n",
            "    Uninstalling tensorboard-data-server-0.7.0:\n",
            "      Successfully uninstalled tensorboard-data-server-0.7.0\n",
            "  Attempting uninstall: protobuf\n",
            "    Found existing installation: protobuf 3.20.3\n",
            "    Uninstalling protobuf-3.20.3:\n",
            "      Successfully uninstalled protobuf-3.20.3\n",
            "  Attempting uninstall: tensorboard\n",
            "    Found existing installation: tensorboard 2.12.0\n",
            "    Uninstalling tensorboard-2.12.0:\n",
            "      Successfully uninstalled tensorboard-2.12.0\n",
            "  Attempting uninstall: tensorflow\n",
            "    Found existing installation: tensorflow 2.12.0\n",
            "    Uninstalling tensorflow-2.12.0:\n",
            "      Successfully uninstalled tensorflow-2.12.0\n",
            "Successfully installed keras-2.10.0 keras-preprocessing-1.1.2 protobuf-3.19.6 tensorboard-2.10.1 tensorboard-data-server-0.6.1 tensorflow-2.10.0 tensorflow-estimator-2.10.0\n"
          ]
        },
        {
          "output_type": "display_data",
          "data": {
            "application/vnd.colab-display-data+json": {
              "pip_warning": {
                "packages": [
                  "google"
                ]
              }
            }
          },
          "metadata": {}
        },
        {
          "output_type": "stream",
          "name": "stdout",
          "text": [
            "Reading package lists... Done\n",
            "Building dependency tree       \n",
            "Reading state information... Done\n",
            "The following package was automatically installed and is no longer required:\n",
            "  libnvidia-common-525\n",
            "Use 'apt autoremove' to remove it.\n",
            "The following packages will be REMOVED:\n",
            "  libcudnn8-dev\n",
            "The following held packages will be changed:\n",
            "  libcudnn8\n",
            "The following packages will be DOWNGRADED:\n",
            "  libcudnn8\n",
            "0 upgraded, 0 newly installed, 1 downgraded, 1 to remove and 21 not upgraded.\n",
            "Need to get 430 MB of archives.\n",
            "After this operation, 1,153 MB disk space will be freed.\n",
            "Get:1 https://developer.download.nvidia.com/compute/cuda/repos/ubuntu2004/x86_64  libcudnn8 8.1.0.77-1+cuda11.2 [430 MB]\n",
            "Fetched 430 MB in 5s (89.6 MB/s)\n",
            "(Reading database ... 128293 files and directories currently installed.)\n",
            "Removing libcudnn8-dev (8.7.0.84-1+cuda11.8) ...\n",
            "update-alternatives: removing manually selected alternative - switching libcudnn to auto mode\n",
            "\u001b[1mdpkg:\u001b[0m \u001b[1;33mwarning:\u001b[0m downgrading libcudnn8 from 8.7.0.84-1+cuda11.8 to 8.1.0.77-1+cuda11.2\n",
            "(Reading database ... 128260 files and directories currently installed.)\n",
            "Preparing to unpack .../libcudnn8_8.1.0.77-1+cuda11.2_amd64.deb ...\n",
            "Unpacking libcudnn8 (8.1.0.77-1+cuda11.2) over (8.7.0.84-1+cuda11.8) ...\n",
            "Setting up libcudnn8 (8.1.0.77-1+cuda11.2) ...\n"
          ]
        }
      ]
    },
    {
      "cell_type": "code",
      "execution_count": null,
      "metadata": {
        "id": "dzLKpmZICaWN"
      },
      "outputs": [],
      "source": [
        "import os\n",
        "import pathlib\n",
        "\n",
        "import matplotlib.pyplot as plt\n",
        "import numpy as np\n",
        "import seaborn as sns\n",
        "import tensorflow as tf\n",
        "\n",
        "from tensorflow.keras import layers\n",
        "from tensorflow.keras import models\n",
        "from IPython import display\n",
        "\n",
        "# Set the seed value for experiment reproducibility.\n",
        "seed = 42\n",
        "tf.random.set_seed(seed)\n",
        "np.random.seed(seed)"
      ]
    },
    {
      "cell_type": "markdown",
      "metadata": {
        "id": "yR0EdgrLCaWR"
      },
      "source": [
        "## Import the mini Speech Commands dataset\n",
        "\n",
        "To save time with data loading, you will be working with a smaller version of the Speech Commands dataset.\n",
        "Download and extract the `mini_speech_commands.zip` file containing the smaller Speech Commands datasets with `tf.keras.utils.get_file`:"
      ]
    },
    {
      "cell_type": "code",
      "execution_count": null,
      "metadata": {
        "id": "2-rayb7-3Y0I",
        "outputId": "62183417-4f92-4d35-894e-a1e0537d33a0",
        "colab": {
          "base_uri": "https://localhost:8080/"
        }
      },
      "outputs": [
        {
          "output_type": "stream",
          "name": "stdout",
          "text": [
            "Downloading data from http://storage.googleapis.com/download.tensorflow.org/data/mini_speech_commands.zip\n",
            "182082353/182082353 [==============================] - 1s 0us/step\n"
          ]
        }
      ],
      "source": [
        "DATASET_PATH = 'data/mini_speech_commands'\n",
        "\n",
        "data_dir = pathlib.Path(DATASET_PATH)\n",
        "if not data_dir.exists():\n",
        "  tf.keras.utils.get_file(\n",
        "      'mini_speech_commands.zip',\n",
        "      origin=\"http://storage.googleapis.com/download.tensorflow.org/data/mini_speech_commands.zip\",\n",
        "      extract=True,\n",
        "      cache_dir='.', cache_subdir='data')"
      ]
    },
    {
      "cell_type": "markdown",
      "metadata": {
        "id": "BgvFq3uYiS5G"
      },
      "source": [
        "The dataset's audio clips are stored in eight folders corresponding to each speech command: `no`, `yes`, `down`, `go`, `left`, `up`, `right`, and `stop`:"
      ]
    },
    {
      "cell_type": "code",
      "execution_count": null,
      "metadata": {
        "id": "70IBxSKxA1N9",
        "outputId": "5a407e2f-e881-445b-91ff-58817843d243",
        "colab": {
          "base_uri": "https://localhost:8080/"
        }
      },
      "outputs": [
        {
          "output_type": "stream",
          "name": "stdout",
          "text": [
            "Commands: ['stop' 'up' 'right' 'left' 'no' 'down' 'go' 'yes']\n"
          ]
        }
      ],
      "source": [
        "commands = np.array(tf.io.gfile.listdir(str(data_dir)))\n",
        "commands = commands[(commands != 'README.md') & (commands != '.DS_Store')]\n",
        "print('Commands:', commands)"
      ]
    },
    {
      "cell_type": "markdown",
      "metadata": {
        "id": "TZ7GJjDvHqtt"
      },
      "source": [
        "Now we split the data into train and test datasets.\n",
        "\n",
        "The audio clips are 1 second or less at 16kHz."
      ]
    },
    {
      "cell_type": "code",
      "execution_count": null,
      "metadata": {
        "id": "mFM4c3aMC8Qv",
        "outputId": "36f92fe6-5501-4e4a-c578-bd143fa32fa3",
        "colab": {
          "base_uri": "https://localhost:8080/"
        }
      },
      "outputs": [
        {
          "output_type": "stream",
          "name": "stdout",
          "text": [
            "Found 8000 files belonging to 8 classes.\n",
            "Using 6400 files for training.\n",
            "Using 1600 files for validation.\n",
            "\n",
            "label names: ['down' 'go' 'left' 'no' 'right' 'stop' 'up' 'yes']\n"
          ]
        }
      ],
      "source": [
        "train_ds, val_ds = tf.keras.utils.audio_dataset_from_directory(\n",
        "    directory=data_dir,\n",
        "    batch_size=64,\n",
        "    validation_split=0.2,\n",
        "    seed=0,\n",
        "    output_sequence_length=16000,\n",
        "    subset='both')\n",
        "\n",
        "label_names = np.array(train_ds.class_names)\n",
        "print()\n",
        "print(\"label names:\", label_names)"
      ]
    },
    {
      "cell_type": "code",
      "execution_count": null,
      "metadata": {
        "id": "Xl-tnniUIBlM"
      },
      "outputs": [],
      "source": [
        "def squeeze(audio, labels):\n",
        "  audio = tf.squeeze(audio, axis=-1)\n",
        "  return audio, labels\n",
        "\n",
        "train_ds = train_ds.map(squeeze, tf.data.AUTOTUNE)\n",
        "val_ds = val_ds.map(squeeze, tf.data.AUTOTUNE)"
      ]
    },
    {
      "cell_type": "markdown",
      "metadata": {
        "id": "DtsCSWZN5ILv"
      },
      "source": [
        "We have to split our calidation dataset into val and test set."
      ]
    },
    {
      "cell_type": "code",
      "execution_count": null,
      "metadata": {
        "id": "u5UEGsqM5Gss"
      },
      "outputs": [],
      "source": [
        "test_ds = val_ds.shard(num_shards=2, index=0)\n",
        "val_ds = val_ds.shard(num_shards=2, index=1)"
      ]
    },
    {
      "cell_type": "code",
      "execution_count": null,
      "metadata": {
        "id": "xIeoJcwJH5h9",
        "outputId": "0f00df42-1f46-4dcd-ce46-414bdd095c3a",
        "colab": {
          "base_uri": "https://localhost:8080/"
        }
      },
      "outputs": [
        {
          "output_type": "stream",
          "name": "stdout",
          "text": [
            "(64, 16000)\n",
            "(64,)\n"
          ]
        }
      ],
      "source": [
        "for example_audio, example_labels in train_ds.take(1):  \n",
        "  print(example_audio.shape)\n",
        "  print(example_labels.shape)"
      ]
    },
    {
      "cell_type": "markdown",
      "metadata": {
        "id": "voxGEwvuh2L7"
      },
      "source": [
        "Let's plot a few audio waveforms:"
      ]
    },
    {
      "cell_type": "markdown",
      "metadata": {
        "id": "EWXPphxm0B4m"
      },
      "source": [
        "## Convert waveforms to spectrograms\n",
        "\n",
        "The waveforms in the dataset are represented in the time domain. Next, you'll transform the waveforms from the time-domain signals into the time-frequency-domain signals by computing the [short-time Fourier transform (STFT)](https://en.wikipedia.org/wiki/Short-time_Fourier_transform) to convert the waveforms to as [spectrograms](https://en.wikipedia.org/wiki/Spectrogram), which show frequency changes over time and can be represented as 2D images."
      ]
    },
    {
      "cell_type": "code",
      "execution_count": null,
      "metadata": {
        "id": "_4CK75DHz_OR"
      },
      "outputs": [],
      "source": [
        "def get_spectrogram(waveform):\n",
        "  # Convert the waveform to a spectrogram via a STFT.\n",
        "  spectrogram = tf.signal.stft(\n",
        "      waveform, frame_length=255, frame_step=128)\n",
        "  # Obtain the magnitude of the STFT.\n",
        "  spectrogram = tf.abs(spectrogram)\n",
        "  # Add a `channels` dimension, so that the spectrogram can be used\n",
        "  # as image-like input data with convolution layers (which expect\n",
        "  # shape (`batch_size`, `height`, `width`, `channels`).\n",
        "  spectrogram = spectrogram[..., tf.newaxis]\n",
        "  return spectrogram"
      ]
    },
    {
      "cell_type": "markdown",
      "metadata": {
        "id": "xnSuqyxJ1isF"
      },
      "source": [
        "Now, define a function for displaying a spectrogram:"
      ]
    },
    {
      "cell_type": "code",
      "execution_count": null,
      "metadata": {
        "id": "e62jzb36-Jog"
      },
      "outputs": [],
      "source": [
        "#def plot_spectrogram(spectrogram, ax):\n",
        "#  if len(spectrogram.shape) > 2:\n",
        "#    assert len(spectrogram.shape) == 3\n",
        "#    spectrogram = np.squeeze(spectrogram, axis=-1)\n",
        "#  # Convert the frequencies to log scale and transpose, so that the time is\n",
        "#  # represented on the x-axis (columns).\n",
        "#  # Add an epsilon to avoid taking a log of zero.\n",
        "#  log_spec = np.log(spectrogram.T + np.finfo(float).eps)\n",
        "#  height = log_spec.shape[0]\n",
        "#  width = log_spec.shape[1]\n",
        "#  X = np.linspace(0, np.size(spectrogram), num=width, dtype=int)\n",
        "#  Y = range(height)\n",
        "#  ax.pcolormesh(X, Y, log_spec)"
      ]
    },
    {
      "cell_type": "markdown",
      "metadata": {
        "id": "GyYXjW07jCHA"
      },
      "source": [
        "Now, create spectrogramn datasets from the audio datasets:"
      ]
    },
    {
      "cell_type": "code",
      "execution_count": null,
      "metadata": {
        "id": "mAD0LpkgqtQo"
      },
      "outputs": [],
      "source": [
        "def make_spec_ds(ds):\n",
        "  return ds.map(\n",
        "      map_func=lambda audio,label: (get_spectrogram(audio), label),\n",
        "      num_parallel_calls=tf.data.AUTOTUNE)"
      ]
    },
    {
      "cell_type": "code",
      "execution_count": null,
      "metadata": {
        "id": "yEVb_oK0oBLQ"
      },
      "outputs": [],
      "source": [
        "train_spectrogram_ds = make_spec_ds(train_ds)\n",
        "val_spectrogram_ds = make_spec_ds(val_ds)\n",
        "test_spectrogram_ds = make_spec_ds(test_ds)"
      ]
    },
    {
      "cell_type": "code",
      "source": [
        "for example_spectrograms, example_spect_labels in train_spectrogram_ds.take(1):\n",
        "  break"
      ],
      "metadata": {
        "id": "Pp8S55hQuGgH"
      },
      "execution_count": null,
      "outputs": []
    },
    {
      "cell_type": "markdown",
      "metadata": {
        "id": "z5KdY8IF8rkt"
      },
      "source": [
        "## Build and train the model"
      ]
    },
    {
      "cell_type": "code",
      "execution_count": null,
      "metadata": {
        "id": "fdZ6M-F5_QzY"
      },
      "outputs": [],
      "source": [
        "train_spectrogram_ds = train_spectrogram_ds.cache().shuffle(10000).prefetch(tf.data.AUTOTUNE)\n",
        "val_spectrogram_ds = val_spectrogram_ds.cache().prefetch(tf.data.AUTOTUNE)\n",
        "test_spectrogram_ds = test_spectrogram_ds.cache().prefetch(tf.data.AUTOTUNE)"
      ]
    },
    {
      "cell_type": "markdown",
      "metadata": {
        "id": "rwHkKCQQb5oW"
      },
      "source": [
        "For the model, you'll use a simple convolutional neural network (CNN), since you have transformed the audio files into spectrogram images.\n",
        "\n",
        "Your `tf.keras.Sequential` model will use the following Keras preprocessing layers:\n",
        "\n",
        "- `tf.keras.layers.Resizing`: to downsample the input to enable the model to train faster.\n",
        "- `tf.keras.layers.Normalization`: to normalize each pixel in the image based on its mean and standard deviation."
      ]
    },
    {
      "cell_type": "code",
      "execution_count": null,
      "metadata": {
        "id": "ALYz7PFCHblP",
        "outputId": "649f40aa-963b-48ec-fdfe-79f255a8860a",
        "colab": {
          "base_uri": "https://localhost:8080/"
        }
      },
      "outputs": [
        {
          "output_type": "stream",
          "name": "stdout",
          "text": [
            "Input shape: (124, 129, 1)\n",
            "Model: \"sequential\"\n",
            "_________________________________________________________________\n",
            " Layer (type)                Output Shape              Param #   \n",
            "=================================================================\n",
            " resizing (Resizing)         (None, 32, 32, 1)         0         \n",
            "                                                                 \n",
            " normalization (Normalizatio  (None, 32, 32, 1)        3         \n",
            " n)                                                              \n",
            "                                                                 \n",
            " conv2d (Conv2D)             (None, 30, 30, 32)        320       \n",
            "                                                                 \n",
            " conv2d_1 (Conv2D)           (None, 28, 28, 64)        18496     \n",
            "                                                                 \n",
            " max_pooling2d (MaxPooling2D  (None, 14, 14, 64)       0         \n",
            " )                                                               \n",
            "                                                                 \n",
            " dropout (Dropout)           (None, 14, 14, 64)        0         \n",
            "                                                                 \n",
            " flatten (Flatten)           (None, 12544)             0         \n",
            "                                                                 \n",
            " dense (Dense)               (None, 128)               1605760   \n",
            "                                                                 \n",
            " dropout_1 (Dropout)         (None, 128)               0         \n",
            "                                                                 \n",
            " dense_1 (Dense)             (None, 8)                 1032      \n",
            "                                                                 \n",
            "=================================================================\n",
            "Total params: 1,625,611\n",
            "Trainable params: 1,625,608\n",
            "Non-trainable params: 3\n",
            "_________________________________________________________________\n"
          ]
        }
      ],
      "source": [
        "input_shape = example_spectrograms.shape[1:]\n",
        "print('Input shape:', input_shape)\n",
        "num_labels = len(label_names)\n",
        "\n",
        "# Instantiate the `tf.keras.layers.Normalization` layer.\n",
        "norm_layer = layers.Normalization()\n",
        "# Fit the state of the layer to the spectrograms\n",
        "# with `Normalization.adapt`.\n",
        "norm_layer.adapt(data=train_spectrogram_ds.map(map_func=lambda spec, label: spec))\n",
        "\n",
        "model = models.Sequential([\n",
        "    tf.keras.layers.Input(shape=input_shape),\n",
        "    # Downsample the input.\n",
        "    tf.keras.layers.Resizing(32, 32),\n",
        "    # Normalize.\n",
        "    norm_layer,\n",
        "    tf.keras.layers.Conv2D(32, 3, activation='relu'),\n",
        "    tf.keras.layers.Conv2D(64, 3, activation='relu'),\n",
        "    tf.keras.layers.MaxPooling2D(),\n",
        "    tf.keras.layers.Dropout(0.25),\n",
        "    tf.keras.layers.Flatten(),\n",
        "    tf.keras.layers.Dense(128, activation='relu'),\n",
        "    tf.keras.layers.Dropout(0.5),\n",
        "    tf.keras.layers.Dense(num_labels),\n",
        "])\n",
        "\n",
        "model.summary()"
      ]
    },
    {
      "cell_type": "markdown",
      "metadata": {
        "id": "de52e5afa2f3"
      },
      "source": [
        "Configure the Keras model with the Adam optimizer and the cross-entropy loss:"
      ]
    },
    {
      "cell_type": "code",
      "execution_count": null,
      "metadata": {
        "id": "wFjj7-EmsTD-"
      },
      "outputs": [],
      "source": [
        "model.compile(\n",
        "    optimizer=tf.keras.optimizers.Adam(),\n",
        "    loss=tf.keras.losses.SparseCategoricalCrossentropy(from_logits=True),\n",
        "    metrics=['accuracy'],\n",
        ")"
      ]
    },
    {
      "cell_type": "markdown",
      "metadata": {
        "id": "f42b9e3a4705"
      },
      "source": [
        "Train the model over 10 epochs for demonstration purposes:"
      ]
    },
    {
      "cell_type": "code",
      "execution_count": null,
      "metadata": {
        "id": "ttioPJVMcGtq",
        "outputId": "869552a7-89f6-4415-acfb-8f1fc86f9c4c",
        "colab": {
          "base_uri": "https://localhost:8080/"
        }
      },
      "outputs": [
        {
          "output_type": "stream",
          "name": "stdout",
          "text": [
            "Epoch 1/10\n",
            "100/100 [==============================] - 10s 21ms/step - loss: 1.7291 - accuracy: 0.3664 - val_loss: 1.2526 - val_accuracy: 0.6042\n",
            "Epoch 2/10\n",
            "100/100 [==============================] - 1s 8ms/step - loss: 1.1910 - accuracy: 0.5769 - val_loss: 0.9000 - val_accuracy: 0.7070\n",
            "Epoch 3/10\n",
            "100/100 [==============================] - 1s 7ms/step - loss: 0.9203 - accuracy: 0.6764 - val_loss: 0.7957 - val_accuracy: 0.7734\n",
            "Epoch 4/10\n",
            "100/100 [==============================] - 1s 7ms/step - loss: 0.7711 - accuracy: 0.7245 - val_loss: 0.6809 - val_accuracy: 0.7786\n",
            "Epoch 5/10\n",
            "100/100 [==============================] - 1s 8ms/step - loss: 0.6746 - accuracy: 0.7647 - val_loss: 0.6413 - val_accuracy: 0.7878\n",
            "Epoch 6/10\n",
            "100/100 [==============================] - 1s 8ms/step - loss: 0.5732 - accuracy: 0.7931 - val_loss: 0.5939 - val_accuracy: 0.8073\n",
            "Epoch 7/10\n",
            "100/100 [==============================] - 1s 8ms/step - loss: 0.5168 - accuracy: 0.8116 - val_loss: 0.5591 - val_accuracy: 0.8216\n",
            "Epoch 8/10\n",
            "100/100 [==============================] - 1s 8ms/step - loss: 0.4685 - accuracy: 0.8339 - val_loss: 0.5223 - val_accuracy: 0.8346\n",
            "Epoch 9/10\n",
            "100/100 [==============================] - 1s 8ms/step - loss: 0.4167 - accuracy: 0.8523 - val_loss: 0.4842 - val_accuracy: 0.8424\n",
            "Epoch 10/10\n",
            "100/100 [==============================] - 1s 7ms/step - loss: 0.3844 - accuracy: 0.8662 - val_loss: 0.4911 - val_accuracy: 0.8438\n"
          ]
        }
      ],
      "source": [
        "EPOCHS = 10\n",
        "history = model.fit(\n",
        "    train_spectrogram_ds,\n",
        "    validation_data=val_spectrogram_ds,\n",
        "    epochs=EPOCHS,\n",
        "    callbacks=tf.keras.callbacks.EarlyStopping(verbose=1, patience=2),\n",
        ")"
      ]
    },
    {
      "cell_type": "markdown",
      "metadata": {
        "id": "gjpCDeQ4mUfS"
      },
      "source": [
        "Let's plot the training and validation loss curves to check how your model has improved during training:"
      ]
    },
    {
      "cell_type": "code",
      "execution_count": null,
      "metadata": {
        "id": "nzhipg3Gu2AY",
        "outputId": "5ee93498-a88c-4563-8c9f-7483180046d0",
        "colab": {
          "base_uri": "https://localhost:8080/",
          "height": 564
        }
      },
      "outputs": [
        {
          "output_type": "execute_result",
          "data": {
            "text/plain": [
              "Text(0, 0.5, 'Accuracy [%]')"
            ]
          },
          "metadata": {},
          "execution_count": 19
        },
        {
          "output_type": "display_data",
          "data": {
            "text/plain": [
              "<Figure size 1600x600 with 2 Axes>"
            ],
            "image/png": "[encoded data removed]"
          },
          "metadata": {}
        }
      ],
      "source": [
        "metrics = history.history\n",
        "plt.figure(figsize=(16,6))\n",
        "plt.subplot(1,2,1)\n",
        "plt.plot(history.epoch, metrics['loss'], metrics['val_loss'])\n",
        "plt.legend(['loss', 'val_loss'])\n",
        "plt.ylim([0, max(plt.ylim())])\n",
        "plt.xlabel('Epoch')\n",
        "plt.ylabel('Loss [CrossEntropy]')\n",
        "\n",
        "plt.subplot(1,2,2)\n",
        "plt.plot(history.epoch, 100*np.array(metrics['accuracy']), 100*np.array(metrics['val_accuracy']))\n",
        "plt.legend(['accuracy', 'val_accuracy'])\n",
        "plt.ylim([0, 100])\n",
        "plt.xlabel('Epoch')\n",
        "plt.ylabel('Accuracy [%]')"
      ]
    },
    {
      "cell_type": "markdown",
      "metadata": {
        "id": "5ZTt3kO3mfm4"
      },
      "source": [
        "## Evaluate the model performance\n",
        "\n",
        "Run the model on the test set and check the model's performance:"
      ]
    },
    {
      "cell_type": "code",
      "execution_count": null,
      "metadata": {
        "id": "FapuRT_SsWGQ",
        "outputId": "25903d36-30e4-474c-d8b4-570129d532da",
        "colab": {
          "base_uri": "https://localhost:8080/"
        }
      },
      "outputs": [
        {
          "output_type": "stream",
          "name": "stdout",
          "text": [
            "13/13 [==============================] - 2s 149ms/step - loss: 0.5265 - accuracy: 0.8257\n"
          ]
        },
        {
          "output_type": "execute_result",
          "data": {
            "text/plain": [
              "{'loss': 0.5265343189239502, 'accuracy': 0.8257211446762085}"
            ]
          },
          "metadata": {},
          "execution_count": 20
        }
      ],
      "source": [
        "model.evaluate(test_spectrogram_ds, return_dict=True)"
      ]
    },
    {
      "cell_type": "markdown",
      "metadata": {
        "id": "en9Znt1NOabH"
      },
      "source": [
        "### Display a confusion matrix\n",
        "\n",
        "Use a [confusion matrix](https://developers.google.com/machine-learning/glossary#confusion-matrix) to check how well the model did classifying each of the recordings in the test set:\n"
      ]
    },
    {
      "cell_type": "code",
      "execution_count": null,
      "metadata": {
        "id": "5Y6vmWWQuuT1",
        "outputId": "c65ef56e-a0c9-4044-bef7-f26b16468fe2",
        "colab": {
          "base_uri": "https://localhost:8080/"
        }
      },
      "outputs": [
        {
          "output_type": "stream",
          "name": "stdout",
          "text": [
            "13/13 [==============================] - 0s 3ms/step\n"
          ]
        }
      ],
      "source": [
        "y_pred = model.predict(test_spectrogram_ds)"
      ]
    },
    {
      "cell_type": "code",
      "execution_count": null,
      "metadata": {
        "id": "d6F0il82u7lW"
      },
      "outputs": [],
      "source": [
        "y_pred = tf.argmax(y_pred, axis=1)"
      ]
    },
    {
      "cell_type": "code",
      "execution_count": null,
      "metadata": {
        "id": "vHSNoBYLvX81"
      },
      "outputs": [],
      "source": [
        "y_true = tf.concat(list(test_spectrogram_ds.map(lambda s,lab: lab)), axis=0)"
      ]
    },
    {
      "cell_type": "code",
      "execution_count": null,
      "metadata": {
        "id": "LvoSAOiXU3lL",
        "outputId": "0a9e42c3-8620-4b0a-827c-bfdfc0397fa9",
        "colab": {
          "base_uri": "https://localhost:8080/",
          "height": 696
        }
      },
      "outputs": [
        {
          "output_type": "display_data",
          "data": {
            "text/plain": [
              "<Figure size 1000x800 with 2 Axes>"
            ],
            "image/png": "[encoded data removed]"
          },
          "metadata": {}
        }
      ],
      "source": [
        "confusion_mtx = tf.math.confusion_matrix(y_true, y_pred)\n",
        "plt.figure(figsize=(10, 8))\n",
        "sns.heatmap(confusion_mtx,\n",
        "            xticklabels=label_names,\n",
        "            yticklabels=label_names,\n",
        "            annot=True, fmt='g')\n",
        "plt.xlabel('Prediction')\n",
        "plt.ylabel('Label')\n",
        "plt.show()"
      ]
    },
    {
      "cell_type": "markdown",
      "metadata": {
        "id": "mQGi_mzPcLvl"
      },
      "source": [
        "## Check trained model for sample audio\n",
        "\n",
        "Finally, verify the model's prediction output using an input audio file. How well does your model perform?"
      ]
    },
    {
      "cell_type": "code",
      "source": [
        "#provide link to your sample file\n",
        "x = data_dir/'/content/data/mini_speech_commands/stop/2313e093_nohash_2.wav'\n",
        "#x = data_dir/'right/012c8314_nohash_1.wav'"
      ],
      "metadata": {
        "id": "x4MQiAAlw1kX"
      },
      "execution_count": 74,
      "outputs": []
    },
    {
      "cell_type": "code",
      "execution_count": 75,
      "metadata": {
        "id": "zRxauKMdhofU",
        "outputId": "1709149b-7e26-42ab-a147-350b37c92661",
        "colab": {
          "base_uri": "https://localhost:8080/",
          "height": 510
        }
      },
      "outputs": [
        {
          "output_type": "display_data",
          "data": {
            "text/plain": [
              "<Figure size 640x480 with 1 Axes>"
            ],
            "image/png": "[encoded data removed]"
          },
          "metadata": {}
        },
        {
          "output_type": "display_data",
          "data": {
            "text/plain": [
              "<IPython.lib.display.Audio object>"
            ],
            "text/html": [
              "\n",
              "                <audio  controls=\"controls\" >\n",
              "                    <source src=\"data:audio/wav;base64,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\" type=\"audio/wav\" />\n",
              "                    Your browser does not support the audio element.\n",
              "                </audio>\n",
              "              "
            ]
          },
          "metadata": {}
        }
      ],
      "source": [
        "x = tf.io.read_file(str(x))\n",
        "x, sample_rate = tf.audio.decode_wav(x, desired_channels=1, desired_samples=16000,)\n",
        "x = tf.squeeze(x, axis=-1)\n",
        "waveform = x\n",
        "x = get_spectrogram(x)\n",
        "x = x[tf.newaxis,...]\n",
        "\n",
        "prediction = model(x)\n",
        "#x_labels = ['no', 'yes', 'down', 'go', 'left', 'up', 'right', 'stop']\n",
        "x_labels = ['down', 'go', 'left', 'no', 'right', 'stop', 'up', 'yes']\n",
        "plt.bar(x_labels, tf.nn.softmax(prediction[0]))\n",
        "plt.title('Prediction')\n",
        "plt.show()\n",
        "\n",
        "display.display(display.Audio(waveform, rate=16000))"
      ]
    }
  ],
  "metadata": {
    "accelerator": "GPU",
    "colab": {
      "provenance": [],
      "include_colab_link": true
    },
    "kernelspec": {
      "display_name": "Python 3",
      "name": "python3"
    },
    "gpuClass": "standard"
  },
  "nbformat": 4,
  "nbformat_minor": 0
}