{
  "nbformat": 4,
  "nbformat_minor": 0,
  "metadata": {
    "colab": {
      "provenance": []
    },
    "kernelspec": {
      "name": "python3",
      "display_name": "Python 3"
    },
    "language_info": {
      "name": "python"
    },
    "accelerator": "GPU",
    "gpuClass": "standard"
  },
  "cells": [
    {
      "cell_type": "markdown",
      "source": [
        "Source: \n",
        "\n",
        "*   https://pypi.org/project/gpt-2-simple/#description\n",
        "*   https://medium.com/@stasinopoulos.dimitrios/a-beginners-guide-to-training-and-generating-text-using-gpt2-c2f2e1fbd10a\n",
        "*   https://colab.research.google.com/drive/1VLG8e7YSEwypxU-noRNhsv5dW4NfTGce#scrollTo=VHdTL8NDbAh3\n",
        "*  https://github.com/ak9250/gpt-2-colab\n",
        "*  https://www.aiweirdness.com/d-and-d-character-bios-now-making-19-03-15/\n",
        "*  https://minimaxir.com/2019/09/howto-gpt2/\n",
        "\n",
        "\n",
        "\n"
      ],
      "metadata": {
        "id": "rgNM-NcAZ9aT"
      }
    },
    {
      "cell_type": "markdown",
      "source": [
        "[![Open In Colab](https://colab.research.google.com/assets/colab-badge.svg)](https://colab.research.google.com/github/zawemi/GS2DIT/blob/main/Class%203/gpt_2_shakespeare.ipynb#scrollTo=4tIUvFbLMUuE)"
      ],
      "metadata": {
        "id": "4tIUvFbLMUuE"
      }
    },
    {
      "cell_type": "markdown",
      "source": [
        "#Let's teach AI writing like a Shakespeare 🎓"
      ],
      "metadata": {
        "id": "MofLJqBHAWXI"
      }
    },
    {
      "cell_type": "markdown",
      "source": [
        "##Installing the model"
      ],
      "metadata": {
        "id": "W7wiPFGQQn9o"
      }
    },
    {
      "cell_type": "code",
      "execution_count": 1,
      "metadata": {
        "colab": {
          "base_uri": "https://localhost:8080/"
        },
        "id": "mQACJ8lyUIR0",
        "outputId": "70f41473-88f5-416d-c247-d51548f57778"
      },
      "outputs": [
        {
          "output_type": "stream",
          "name": "stdout",
          "text": [
            "Looking in indexes: https://pypi.org/simple, https://us-python.pkg.dev/colab-wheels/public/simple/\n",
            "Requirement already satisfied: gpt-2-simple in /usr/local/lib/python3.9/dist-packages (0.8.1)\n",
            "Requirement already satisfied: tensorflow>=2.5.1 in /usr/local/lib/python3.9/dist-packages (from gpt-2-simple) (2.11.0)\n",
            "Requirement already satisfied: numpy in /usr/local/lib/python3.9/dist-packages (from gpt-2-simple) (1.22.4)\n",
            "Requirement already satisfied: regex in /usr/local/lib/python3.9/dist-packages (from gpt-2-simple) (2022.10.31)\n",
            "Requirement already satisfied: requests in /usr/local/lib/python3.9/dist-packages (from gpt-2-simple) (2.27.1)\n",
            "Requirement already satisfied: tqdm in /usr/local/lib/python3.9/dist-packages (from gpt-2-simple) (4.65.0)\n",
            "Requirement already satisfied: toposort in /usr/local/lib/python3.9/dist-packages (from gpt-2-simple) (1.10)\n",
            "Requirement already satisfied: six>=1.12.0 in /usr/local/lib/python3.9/dist-packages (from tensorflow>=2.5.1->gpt-2-simple) (1.16.0)\n",
            "Requirement already satisfied: tensorflow-estimator<2.12,>=2.11.0 in /usr/local/lib/python3.9/dist-packages (from tensorflow>=2.5.1->gpt-2-simple) (2.11.0)\n",
            "Requirement already satisfied: grpcio<2.0,>=1.24.3 in /usr/local/lib/python3.9/dist-packages (from tensorflow>=2.5.1->gpt-2-simple) (1.51.3)\n",
            "Requirement already satisfied: absl-py>=1.0.0 in /usr/local/lib/python3.9/dist-packages (from tensorflow>=2.5.1->gpt-2-simple) (1.4.0)\n",
            "Requirement already satisfied: flatbuffers>=2.0 in /usr/local/lib/python3.9/dist-packages (from tensorflow>=2.5.1->gpt-2-simple) (23.3.3)\n",
            "Requirement already satisfied: opt-einsum>=2.3.2 in /usr/local/lib/python3.9/dist-packages (from tensorflow>=2.5.1->gpt-2-simple) (3.3.0)\n",
            "Requirement already satisfied: google-pasta>=0.1.1 in /usr/local/lib/python3.9/dist-packages (from tensorflow>=2.5.1->gpt-2-simple) (0.2.0)\n",
            "Requirement already satisfied: protobuf<3.20,>=3.9.2 in /usr/local/lib/python3.9/dist-packages (from tensorflow>=2.5.1->gpt-2-simple) (3.19.6)\n",
            "Requirement already satisfied: typing-extensions>=3.6.6 in /usr/local/lib/python3.9/dist-packages (from tensorflow>=2.5.1->gpt-2-simple) (4.5.0)\n",
            "Requirement already satisfied: astunparse>=1.6.0 in /usr/local/lib/python3.9/dist-packages (from tensorflow>=2.5.1->gpt-2-simple) (1.6.3)\n",
            "Requirement already satisfied: keras<2.12,>=2.11.0 in /usr/local/lib/python3.9/dist-packages (from tensorflow>=2.5.1->gpt-2-simple) (2.11.0)\n",
            "Requirement already satisfied: tensorflow-io-gcs-filesystem>=0.23.1 in /usr/local/lib/python3.9/dist-packages (from tensorflow>=2.5.1->gpt-2-simple) (0.31.0)\n",
            "Requirement already satisfied: packaging in /usr/local/lib/python3.9/dist-packages (from tensorflow>=2.5.1->gpt-2-simple) (23.0)\n",
            "Requirement already satisfied: wrapt>=1.11.0 in /usr/local/lib/python3.9/dist-packages (from tensorflow>=2.5.1->gpt-2-simple) (1.15.0)\n",
            "Requirement already satisfied: h5py>=2.9.0 in /usr/local/lib/python3.9/dist-packages (from tensorflow>=2.5.1->gpt-2-simple) (3.8.0)\n",
            "Requirement already satisfied: gast<=0.4.0,>=0.2.1 in /usr/local/lib/python3.9/dist-packages (from tensorflow>=2.5.1->gpt-2-simple) (0.4.0)\n",
            "Requirement already satisfied: setuptools in /usr/local/lib/python3.9/dist-packages (from tensorflow>=2.5.1->gpt-2-simple) (63.4.3)\n",
            "Requirement already satisfied: libclang>=13.0.0 in /usr/local/lib/python3.9/dist-packages (from tensorflow>=2.5.1->gpt-2-simple) (15.0.6.1)\n",
            "Requirement already satisfied: termcolor>=1.1.0 in /usr/local/lib/python3.9/dist-packages (from tensorflow>=2.5.1->gpt-2-simple) (2.2.0)\n",
            "Requirement already satisfied: tensorboard<2.12,>=2.11 in /usr/local/lib/python3.9/dist-packages (from tensorflow>=2.5.1->gpt-2-simple) (2.11.2)\n",
            "Requirement already satisfied: idna<4,>=2.5 in /usr/local/lib/python3.9/dist-packages (from requests->gpt-2-simple) (3.4)\n",
            "Requirement already satisfied: charset-normalizer~=2.0.0 in /usr/local/lib/python3.9/dist-packages (from requests->gpt-2-simple) (2.0.12)\n",
            "Requirement already satisfied: urllib3<1.27,>=1.21.1 in /usr/local/lib/python3.9/dist-packages (from requests->gpt-2-simple) (1.26.15)\n",
            "Requirement already satisfied: certifi>=2017.4.17 in /usr/local/lib/python3.9/dist-packages (from requests->gpt-2-simple) (2022.12.7)\n",
            "Requirement already satisfied: wheel<1.0,>=0.23.0 in /usr/local/lib/python3.9/dist-packages (from astunparse>=1.6.0->tensorflow>=2.5.1->gpt-2-simple) (0.40.0)\n",
            "Requirement already satisfied: tensorboard-data-server<0.7.0,>=0.6.0 in /usr/local/lib/python3.9/dist-packages (from tensorboard<2.12,>=2.11->tensorflow>=2.5.1->gpt-2-simple) (0.6.1)\n",
            "Requirement already satisfied: markdown>=2.6.8 in /usr/local/lib/python3.9/dist-packages (from tensorboard<2.12,>=2.11->tensorflow>=2.5.1->gpt-2-simple) (3.4.1)\n",
            "Requirement already satisfied: google-auth-oauthlib<0.5,>=0.4.1 in /usr/local/lib/python3.9/dist-packages (from tensorboard<2.12,>=2.11->tensorflow>=2.5.1->gpt-2-simple) (0.4.6)\n",
            "Requirement already satisfied: tensorboard-plugin-wit>=1.6.0 in /usr/local/lib/python3.9/dist-packages (from tensorboard<2.12,>=2.11->tensorflow>=2.5.1->gpt-2-simple) (1.8.1)\n",
            "Requirement already satisfied: werkzeug>=1.0.1 in /usr/local/lib/python3.9/dist-packages (from tensorboard<2.12,>=2.11->tensorflow>=2.5.1->gpt-2-simple) (2.2.3)\n",
            "Requirement already satisfied: google-auth<3,>=1.6.3 in /usr/local/lib/python3.9/dist-packages (from tensorboard<2.12,>=2.11->tensorflow>=2.5.1->gpt-2-simple) (2.16.2)\n",
            "Requirement already satisfied: rsa<5,>=3.1.4 in /usr/local/lib/python3.9/dist-packages (from google-auth<3,>=1.6.3->tensorboard<2.12,>=2.11->tensorflow>=2.5.1->gpt-2-simple) (4.9)\n",
            "Requirement already satisfied: cachetools<6.0,>=2.0.0 in /usr/local/lib/python3.9/dist-packages (from google-auth<3,>=1.6.3->tensorboard<2.12,>=2.11->tensorflow>=2.5.1->gpt-2-simple) (5.3.0)\n",
            "Requirement already satisfied: pyasn1-modules>=0.2.1 in /usr/local/lib/python3.9/dist-packages (from google-auth<3,>=1.6.3->tensorboard<2.12,>=2.11->tensorflow>=2.5.1->gpt-2-simple) (0.2.8)\n",
            "Requirement already satisfied: requests-oauthlib>=0.7.0 in /usr/local/lib/python3.9/dist-packages (from google-auth-oauthlib<0.5,>=0.4.1->tensorboard<2.12,>=2.11->tensorflow>=2.5.1->gpt-2-simple) (1.3.1)\n",
            "Requirement already satisfied: importlib-metadata>=4.4 in /usr/local/lib/python3.9/dist-packages (from markdown>=2.6.8->tensorboard<2.12,>=2.11->tensorflow>=2.5.1->gpt-2-simple) (6.0.0)\n",
            "Requirement already satisfied: MarkupSafe>=2.1.1 in /usr/local/lib/python3.9/dist-packages (from werkzeug>=1.0.1->tensorboard<2.12,>=2.11->tensorflow>=2.5.1->gpt-2-simple) (2.1.2)\n",
            "Requirement already satisfied: zipp>=0.5 in /usr/local/lib/python3.9/dist-packages (from importlib-metadata>=4.4->markdown>=2.6.8->tensorboard<2.12,>=2.11->tensorflow>=2.5.1->gpt-2-simple) (3.15.0)\n",
            "Requirement already satisfied: pyasn1<0.5.0,>=0.4.6 in /usr/local/lib/python3.9/dist-packages (from pyasn1-modules>=0.2.1->google-auth<3,>=1.6.3->tensorboard<2.12,>=2.11->tensorflow>=2.5.1->gpt-2-simple) (0.4.8)\n",
            "Requirement already satisfied: oauthlib>=3.0.0 in /usr/local/lib/python3.9/dist-packages (from requests-oauthlib>=0.7.0->google-auth-oauthlib<0.5,>=0.4.1->tensorboard<2.12,>=2.11->tensorflow>=2.5.1->gpt-2-simple) (3.2.2)\n"
          ]
        }
      ],
      "source": [
        "#install the library we'll use today\n",
        "!pip install gpt-2-simple"
      ]
    },
    {
      "cell_type": "markdown",
      "source": [
        "##Generating text with basic model"
      ],
      "metadata": {
        "id": "ADzeFwzaQ8cT"
      }
    },
    {
      "cell_type": "markdown",
      "source": [
        "###Importing and loading necessary components"
      ],
      "metadata": {
        "id": "d6Ah3D1CRK6o"
      }
    },
    {
      "cell_type": "code",
      "source": [
        "#import what we need\n",
        "import gpt_2_simple as gpt2 #for gpt-2 (our AI model)\n",
        "import os #lets us doing things with files and folders\n",
        "import requests #this one helps to dowload from the internet"
      ],
      "metadata": {
        "id": "mLg4pTPDaJJV"
      },
      "execution_count": 2,
      "outputs": []
    },
    {
      "cell_type": "code",
      "source": [
        "#and let's download our AI model\n",
        "gpt2.download_gpt2()   # model is saved into current directory under /models/124M/"
      ],
      "metadata": {
        "colab": {
          "base_uri": "https://localhost:8080/"
        },
        "id": "fIXHjaxvaWsV",
        "outputId": "ff00149f-4208-481c-c790-9393e3700626"
      },
      "execution_count": 3,
      "outputs": [
        {
          "output_type": "stream",
          "name": "stderr",
          "text": [
            "Fetching checkpoint: 1.05Mit [00:00, 720Mit/s]                                                      \n",
            "Fetching encoder.json: 1.05Mit [00:00, 3.75Mit/s]\n",
            "Fetching hparams.json: 1.05Mit [00:00, 897Mit/s]                                                    \n",
            "Fetching model.ckpt.data-00000-of-00001: 498Mit [00:51, 9.62Mit/s]\n",
            "Fetching model.ckpt.index: 1.05Mit [00:00, 652Mit/s]                                                \n",
            "Fetching model.ckpt.meta: 1.05Mit [00:00, 4.31Mit/s]\n",
            "Fetching vocab.bpe: 1.05Mit [00:00, 5.12Mit/s]\n"
          ]
        }
      ]
    },
    {
      "cell_type": "code",
      "source": [
        "#strating the session so we can play with the gpt-2 model\n",
        "sess = gpt2.start_tf_sess()"
      ],
      "metadata": {
        "id": "6CCkn75KbBpg"
      },
      "execution_count": 4,
      "outputs": []
    },
    {
      "cell_type": "code",
      "source": [
        "#we load the model from file to use it\n",
        "gpt2.load_gpt2(sess, run_name='124M', checkpoint_dir='models')"
      ],
      "metadata": {
        "colab": {
          "base_uri": "https://localhost:8080/"
        },
        "id": "nsBvHQsxZsyP",
        "outputId": "7faac883-9b24-4a8a-f5ab-9b24f308e4cd"
      },
      "execution_count": 5,
      "outputs": [
        {
          "output_type": "stream",
          "name": "stdout",
          "text": [
            "Loading checkpoint models/124M/model.ckpt\n"
          ]
        }
      ]
    },
    {
      "cell_type": "markdown",
      "source": [
        "###Text generation"
      ],
      "metadata": {
        "id": "mDSFDj78RQJg"
      }
    },
    {
      "cell_type": "code",
      "source": [
        "#this is how we would start model statement\n",
        "prefix = \"Is there a second Earth?\""
      ],
      "metadata": {
        "id": "-P5_fxZOgGlk"
      },
      "execution_count": 6,
      "outputs": []
    },
    {
      "cell_type": "code",
      "source": [
        "#the model is generating text\n",
        "gpt2.generate(sess, run_name='124M', checkpoint_dir='models', prefix=prefix, length=50)"
      ],
      "metadata": {
        "colab": {
          "base_uri": "https://localhost:8080/"
        },
        "id": "qSYqTat0gNDo",
        "outputId": "4f57ee0d-bf28-4880-f9d7-72014e9533c2"
      },
      "execution_count": 7,
      "outputs": [
        {
          "output_type": "stream",
          "name": "stdout",
          "text": [
            "Is there a second Earth?\n",
            "\n",
            "Fact: The only possible Earth-like planet is found in the gas giant planet Jovian. When it's orbiting a nearby star, it would move very slowly, but that's a problem for the solar system, since it's so\n"
          ]
        }
      ]
    },
    {
      "cell_type": "markdown",
      "source": [
        "##Generating text with improved (finetuned) model"
      ],
      "metadata": {
        "id": "ML5helfmRjT0"
      }
    },
    {
      "cell_type": "markdown",
      "source": [
        "**IMPORTANT**\n",
        "</br>Restart the runtime (Runtime -> Restart runtime)"
      ],
      "metadata": {
        "id": "8cEaZKtRPx0S"
      }
    },
    {
      "cell_type": "markdown",
      "source": [
        "###Importing and loading necessary components"
      ],
      "metadata": {
        "id": "NIPDKskeR7i3"
      }
    },
    {
      "cell_type": "code",
      "source": [
        "#import what we need\n",
        "import gpt_2_simple as gpt2 #for gpt-2 (our AI model)\n",
        "import os #lets us doing things with files and folders\n",
        "import requests #this one helps to dowload from the internet"
      ],
      "metadata": {
        "id": "eHys5-bWPnhJ"
      },
      "execution_count": 1,
      "outputs": []
    },
    {
      "cell_type": "code",
      "source": [
        "#get nietzsche texts\n",
        "!wget \"https://s3.amazonaws.com/text-datasets/nietzsche.txt\""
      ],
      "metadata": {
        "id": "dRTQyR7IqaOl",
        "outputId": "a2a2b490-96fd-4ba5-87f7-f7da9ff56678",
        "colab": {
          "base_uri": "https://localhost:8080/"
        }
      },
      "execution_count": 2,
      "outputs": [
        {
          "output_type": "stream",
          "name": "stdout",
          "text": [
            "--2023-03-22 12:46:30--  https://s3.amazonaws.com/text-datasets/nietzsche.txt\n",
            "Resolving s3.amazonaws.com (s3.amazonaws.com)... 54.231.161.216, 52.216.244.14, 52.217.72.102, ...\n",
            "Connecting to s3.amazonaws.com (s3.amazonaws.com)|54.231.161.216|:443... connected.\n",
            "HTTP request sent, awaiting response... 200 OK\n",
            "Length: 600901 (587K) [text/plain]\n",
            "Saving to: ‘nietzsche.txt.2’\n",
            "\n",
            "\rnietzsche.txt.2       0%[                    ]       0  --.-KB/s               \rnietzsche.txt.2     100%[===================>] 586.82K  --.-KB/s    in 0.07s   \n",
            "\n",
            "2023-03-22 12:46:30 (8.40 MB/s) - ‘nietzsche.txt.2’ saved [600901/600901]\n",
            "\n"
          ]
        }
      ]
    },
    {
      "cell_type": "code",
      "source": [
        "#game of thrones from https://www.kaggle.com/datasets/khulasasndh/game-of-thrones-books?select=001ssb.txt\n",
        "!gdown \"1CrL1wde_NGO68i5Prd_UNA_oW0cGQsxg&confirm=t\"\n",
        "!mv /content/001ssb.txt /content/got1.txt"
      ],
      "metadata": {
        "id": "pzDNTjJzuKDW",
        "outputId": "8f334db7-10f5-4e00-ffd7-f03ba8d2d8de",
        "colab": {
          "base_uri": "https://localhost:8080/"
        }
      },
      "execution_count": 3,
      "outputs": [
        {
          "output_type": "stream",
          "name": "stdout",
          "text": [
            "Downloading...\n",
            "From: https://drive.google.com/uc?id=1CrL1wde_NGO68i5Prd_UNA_oW0cGQsxg&confirm=t\n",
            "To: /content/001ssb.txt\n",
            "\r  0% 0.00/1.63M [00:00<?, ?B/s]\r100% 1.63M/1.63M [00:00<00:00, 127MB/s]\n"
          ]
        }
      ]
    },
    {
      "cell_type": "code",
      "source": [
        "#let's dowload a file with all Shakespeare plays\n",
        "!wget \"https://raw.githubusercontent.com/karpathy/char-rnn/master/data/tinyshakespeare/input.txt\"\n",
        "!mv /content/input.txt /content/shakespeare.txt"
      ],
      "metadata": {
        "id": "9pwWGn5eqBJn",
        "outputId": "8f08284a-ad3c-45d2-fefe-1229cf8f0ed0",
        "colab": {
          "base_uri": "https://localhost:8080/"
        }
      },
      "execution_count": 4,
      "outputs": [
        {
          "output_type": "stream",
          "name": "stdout",
          "text": [
            "--2023-03-22 12:46:38--  https://raw.githubusercontent.com/karpathy/char-rnn/master/data/tinyshakespeare/input.txt\n",
            "Resolving raw.githubusercontent.com (raw.githubusercontent.com)... 185.199.111.133, 185.199.109.133, 185.199.110.133, ...\n",
            "Connecting to raw.githubusercontent.com (raw.githubusercontent.com)|185.199.111.133|:443... connected.\n",
            "HTTP request sent, awaiting response... 200 OK\n",
            "Length: 1115394 (1.1M) [text/plain]\n",
            "Saving to: ‘input.txt’\n",
            "\n",
            "\rinput.txt             0%[                    ]       0  --.-KB/s               \rinput.txt           100%[===================>]   1.06M  --.-KB/s    in 0.006s  \n",
            "\n",
            "2023-03-22 12:46:38 (188 MB/s) - ‘input.txt’ saved [1115394/1115394]\n",
            "\n"
          ]
        }
      ]
    },
    {
      "cell_type": "code",
      "source": [
        "#strating the session so we can play with the gpt-2 model\n",
        "sess = gpt2.start_tf_sess()"
      ],
      "metadata": {
        "id": "A0T2s8RxPnVr"
      },
      "execution_count": 5,
      "outputs": []
    },
    {
      "cell_type": "markdown",
      "source": [
        "###Teaching our model"
      ],
      "metadata": {
        "id": "bvllQvFxR9z6"
      }
    },
    {
      "cell_type": "code",
      "source": [
        "#finetuning with shakespeare.txt (which, to be honest, means that we are teaching the model how to write like a shakespeare)\n",
        "#it takes a lot of time (~15min)...\n",
        "gpt2.finetune(sess, 'got1.txt', steps=500)   # steps is max number of training steps"
      ],
      "metadata": {
        "colab": {
          "base_uri": "https://localhost:8080/"
        },
        "id": "2RJetxF6UOfY",
        "outputId": "da40c00b-bb48-42c2-cab3-f7c5686f487b"
      },
      "execution_count": 6,
      "outputs": [
        {
          "output_type": "stream",
          "name": "stdout",
          "text": [
            "Loading checkpoint models/124M/model.ckpt\n",
            "Loading dataset...\n"
          ]
        },
        {
          "output_type": "stream",
          "name": "stderr",
          "text": [
            "100%|██████████| 1/1 [00:01<00:00,  1.84s/it]\n"
          ]
        },
        {
          "output_type": "stream",
          "name": "stdout",
          "text": [
            "dataset has 433157 tokens\n",
            "Training...\n",
            "[1 | 7.18] loss=3.55 avg=3.55\n",
            "[2 | 9.26] loss=3.50 avg=3.52\n",
            "[3 | 11.35] loss=3.44 avg=3.50\n",
            "[4 | 13.44] loss=3.15 avg=3.41\n",
            "[5 | 15.54] loss=3.25 avg=3.38\n",
            "[6 | 17.64] loss=3.26 avg=3.36\n",
            "[7 | 19.74] loss=3.22 avg=3.34\n",
            "[8 | 21.87] loss=3.22 avg=3.32\n",
            "[9 | 23.98] loss=3.14 avg=3.30\n",
            "[10 | 26.10] loss=3.05 avg=3.27\n",
            "[11 | 28.23] loss=3.20 avg=3.27\n",
            "[12 | 30.36] loss=3.18 avg=3.26\n",
            "[13 | 32.50] loss=3.16 avg=3.25\n",
            "[14 | 34.63] loss=3.19 avg=3.25\n",
            "[15 | 36.77] loss=3.02 avg=3.23\n",
            "[16 | 38.91] loss=3.15 avg=3.23\n",
            "[17 | 41.06] loss=3.09 avg=3.22\n",
            "[18 | 43.21] loss=3.09 avg=3.21\n",
            "[19 | 45.36] loss=3.15 avg=3.21\n",
            "[20 | 47.53] loss=3.08 avg=3.20\n",
            "[21 | 49.70] loss=3.12 avg=3.19\n",
            "[22 | 51.87] loss=3.14 avg=3.19\n",
            "[23 | 54.05] loss=3.05 avg=3.19\n",
            "[24 | 56.23] loss=3.13 avg=3.18\n",
            "[25 | 58.42] loss=3.11 avg=3.18\n",
            "[26 | 60.61] loss=3.07 avg=3.17\n",
            "[27 | 62.80] loss=3.21 avg=3.18\n",
            "[28 | 65.00] loss=3.08 avg=3.17\n",
            "[29 | 67.20] loss=3.08 avg=3.17\n",
            "[30 | 69.41] loss=3.05 avg=3.16\n",
            "[31 | 71.63] loss=3.21 avg=3.17\n",
            "[32 | 73.85] loss=3.10 avg=3.16\n",
            "[33 | 76.08] loss=3.02 avg=3.16\n",
            "[34 | 78.31] loss=2.96 avg=3.15\n",
            "[35 | 80.54] loss=3.01 avg=3.15\n",
            "[36 | 82.78] loss=3.18 avg=3.15\n",
            "[37 | 85.03] loss=3.09 avg=3.15\n",
            "[38 | 87.29] loss=3.14 avg=3.15\n",
            "[39 | 89.55] loss=3.04 avg=3.14\n",
            "[40 | 91.81] loss=3.01 avg=3.14\n",
            "[41 | 94.07] loss=3.02 avg=3.13\n",
            "[42 | 96.35] loss=3.04 avg=3.13\n",
            "[43 | 98.64] loss=2.97 avg=3.13\n",
            "[44 | 100.93] loss=3.01 avg=3.12\n",
            "[45 | 103.23] loss=2.95 avg=3.12\n",
            "[46 | 105.52] loss=3.00 avg=3.12\n",
            "[47 | 107.82] loss=2.92 avg=3.11\n",
            "[48 | 110.12] loss=2.93 avg=3.11\n",
            "[49 | 112.41] loss=3.09 avg=3.11\n",
            "[50 | 114.70] loss=3.02 avg=3.10\n",
            "[51 | 116.97] loss=3.01 avg=3.10\n",
            "[52 | 119.25] loss=2.79 avg=3.09\n",
            "[53 | 121.52] loss=3.07 avg=3.09\n",
            "[54 | 123.78] loss=2.85 avg=3.09\n",
            "[55 | 126.05] loss=2.98 avg=3.08\n",
            "[56 | 128.30] loss=2.85 avg=3.08\n",
            "[57 | 130.55] loss=2.93 avg=3.08\n",
            "[58 | 132.79] loss=2.93 avg=3.07\n",
            "[59 | 135.04] loss=3.03 avg=3.07\n",
            "[60 | 137.29] loss=2.88 avg=3.07\n",
            "[61 | 139.53] loss=2.90 avg=3.06\n",
            "[62 | 141.78] loss=2.98 avg=3.06\n",
            "[63 | 144.02] loss=2.82 avg=3.06\n",
            "[64 | 146.27] loss=2.94 avg=3.05\n",
            "[65 | 148.52] loss=2.93 avg=3.05\n",
            "[66 | 150.76] loss=2.94 avg=3.05\n",
            "[67 | 153.01] loss=2.99 avg=3.05\n",
            "[68 | 155.26] loss=2.87 avg=3.04\n",
            "[69 | 157.51] loss=2.94 avg=3.04\n",
            "[70 | 159.75] loss=3.00 avg=3.04\n",
            "[71 | 162.00] loss=2.86 avg=3.04\n",
            "[72 | 164.25] loss=2.99 avg=3.04\n",
            "[73 | 166.50] loss=2.84 avg=3.03\n",
            "[74 | 168.75] loss=2.87 avg=3.03\n",
            "[75 | 171.01] loss=2.84 avg=3.03\n",
            "[76 | 173.27] loss=2.71 avg=3.02\n",
            "[77 | 175.52] loss=2.90 avg=3.02\n",
            "[78 | 177.78] loss=2.93 avg=3.02\n",
            "[79 | 180.03] loss=2.76 avg=3.01\n",
            "[80 | 182.30] loss=2.95 avg=3.01\n",
            "[81 | 184.56] loss=2.88 avg=3.01\n",
            "[82 | 186.82] loss=2.96 avg=3.01\n",
            "[83 | 189.07] loss=2.79 avg=3.00\n",
            "[84 | 191.34] loss=3.04 avg=3.00\n",
            "[85 | 193.61] loss=2.82 avg=3.00\n",
            "[86 | 195.89] loss=2.99 avg=3.00\n",
            "[87 | 198.15] loss=2.88 avg=3.00\n",
            "[88 | 200.41] loss=2.89 avg=3.00\n",
            "[89 | 202.68] loss=2.87 avg=3.00\n",
            "[90 | 204.95] loss=2.89 avg=2.99\n",
            "[91 | 207.22] loss=2.75 avg=2.99\n",
            "[92 | 209.49] loss=2.81 avg=2.99\n",
            "[93 | 211.75] loss=2.70 avg=2.98\n",
            "[94 | 214.02] loss=2.96 avg=2.98\n",
            "[95 | 216.27] loss=2.82 avg=2.98\n",
            "[96 | 218.54] loss=2.83 avg=2.98\n",
            "[97 | 220.80] loss=2.84 avg=2.97\n",
            "[98 | 223.07] loss=2.85 avg=2.97\n",
            "[99 | 225.32] loss=2.89 avg=2.97\n",
            "[100 | 227.58] loss=2.78 avg=2.97\n",
            "======== SAMPLE 1 ========\n",
            "go's body, his body. His head. \n",
            "It was so cold and dark and raw. \n",
            "And I felt the chill of his belly, the cold wind that came as it came into my veins. It was at first \n",
            "impossible to see the white of his face. He was dressed in nothing but leather and a mask; he had a \n",
            "banner in the corner but no clothing for his face. He was breathing well, he was alive, and not \n",
            "he was alive. \n",
            "He looked me in the face, his hands and arms black as a sheet. He was the kind of man who looked \n",
            "hurt, the kind who would punch a man out of a window. \n",
            "The only way to know what he was doing was to go to a nurse who had been at the \n",
            "bedside. She asked him, how are you? The wound was worse. \"Mild,\" he said, with a weary \n",
            "smile. \"I had a rough look from when I was young. When I was younger.\" \n",
            "\"When you were younger?\" I asked. \n",
            "\"Oh, yes. You were the youngest, so you grew up pretty,\" he said. \n",
            "\"That was until you were sixteen,\" I said. \n",
            "\"Oh, no, I was sixteen,\" he answered. \"The first time I saw you was when you were \n",
            "bastard.\" \n",
            "\"I was a sixteen,\" Robert said. I thought Robert might be a boy now. I was a girl. He was a boy. \"You were a boy,\" \n",
            "I whispered, not quite sure if I was angry or not, but she was always the first to call me \n",
            "on it. \"The third time, I was in bed with you in the living room,\" she said. \n",
            "\"Can I be the first?\" she whispered. \n",
            "\"Do you mean to come?\" \n",
            "I gave her a look that told me she was joking. She had been with the girls for a week or so before \n",
            "I stopped to put my leg under her. \"What if I could hurt you?\" \n",
            "\"If your leg was hurt,\" I said. \"If you can, please tell anyone.\" \n",
            "Robert and I could see the sadness in his eyes, and I knew he would do anything for anyone. \"I'm sorry,\" \n",
            "it was, \"but I'm not a girl.\" \n",
            "\"We are in the kitchen,\" she said. \n",
            "\"I'm sorry.\" \n",
            "Robert's heart ached at the thought of this. \"I thought you were my mother, were you?\" \n",
            "\"Yes,\" I said. \"The man who murdered me was my father, not the one named Robert.\" \n",
            "\"What was the man?\" \n",
            "\"Father,\" he said. He looked me up and down, the eyes of an axe-wielding man. \"My brother's murder took place \n",
            "at her son.\" \n",
            "\"The girl, the blood,\" I said. I'd seen the blood of your father. That was my mother in all her \n",
            "disarray. And that was the last time, Robert, I asked the same question the first time I heard it, it \n",
            "was my sister's hair. Tears had rolled onto her cheeks as they rolled down across her \n",
            "shoulder. \"So what were you doing?\" I asked. I'm going to ask you again, Robert. Oh, how you've gotten your eyes and \n",
            "your hair down your face, where's where? Is that how your eyes started to hurt? \n",
            "\"I was a girl, Robert, and that's how I became my own father.\" \n",
            "\"How has your life taught you to be yourself?\" \n",
            "\"Good thing it wasn't so bad, it was more like what you were doing to my brother.\" \n",
            "\"Robert loved me, my brother loved him.\" \n",
            "I laughed. \"Robber, I'd like to kill you, Robert.\" \n",
            "\"You killed my brother to take my life?\" I asked him. \n",
            "\"My mother tried to save my brother so she was never born again,\" Robert said. I'd said that \n",
            "wrong, I always knew it was not true, it was not true, it was a lie. I'd believed it for a long time, and \n",
            "now I don't know if I even believe it. \" I said, \"You had a brother, the man you killed.\" \n",
            "\"He was dead. I never saw him.\" \n",
            "I pulled him away for breath, and Robert could see that I was afraid. I'd never had a brother before, \n",
            "as I'd never had in the Vale. \"He must have died before then.\" \n",
            "\"Is his blood just as good?\" \n",
            "\"Yes,\" Robert said, his voice quiet as he looked up at us. \"It\n",
            "\n",
            "[101 | 242.23] loss=2.81 avg=2.96\n",
            "[102 | 244.50] loss=2.64 avg=2.96\n",
            "[103 | 246.75] loss=2.76 avg=2.96\n",
            "[104 | 249.01] loss=2.76 avg=2.95\n",
            "[105 | 251.27] loss=2.86 avg=2.95\n",
            "[106 | 253.52] loss=2.82 avg=2.95\n",
            "[107 | 255.79] loss=2.77 avg=2.95\n",
            "[108 | 258.05] loss=2.63 avg=2.94\n",
            "[109 | 260.31] loss=2.51 avg=2.94\n",
            "[110 | 262.56] loss=2.88 avg=2.94\n",
            "[111 | 264.83] loss=2.86 avg=2.93\n",
            "[112 | 267.09] loss=2.88 avg=2.93\n",
            "[113 | 269.36] loss=2.68 avg=2.93\n",
            "[114 | 271.61] loss=2.90 avg=2.93\n",
            "[115 | 273.88] loss=2.75 avg=2.93\n",
            "[116 | 276.15] loss=2.93 avg=2.93\n",
            "[117 | 278.41] loss=2.64 avg=2.92\n",
            "[118 | 280.66] loss=2.70 avg=2.92\n",
            "[119 | 282.93] loss=2.82 avg=2.92\n",
            "[120 | 285.20] loss=2.71 avg=2.92\n",
            "[121 | 287.46] loss=2.79 avg=2.91\n",
            "[122 | 289.72] loss=2.82 avg=2.91\n",
            "[123 | 291.99] loss=2.74 avg=2.91\n",
            "[124 | 294.25] loss=3.00 avg=2.91\n",
            "[125 | 296.51] loss=2.94 avg=2.91\n",
            "[126 | 298.77] loss=2.61 avg=2.91\n",
            "[127 | 301.04] loss=2.84 avg=2.91\n",
            "[128 | 303.31] loss=2.65 avg=2.90\n",
            "[129 | 305.58] loss=2.91 avg=2.90\n",
            "[130 | 307.85] loss=2.70 avg=2.90\n",
            "[131 | 310.11] loss=2.69 avg=2.90\n",
            "[132 | 312.37] loss=2.91 avg=2.90\n",
            "[133 | 314.64] loss=2.65 avg=2.89\n",
            "[134 | 316.90] loss=2.72 avg=2.89\n",
            "[135 | 319.17] loss=2.60 avg=2.89\n",
            "[136 | 321.43] loss=2.83 avg=2.89\n",
            "[137 | 323.70] loss=2.66 avg=2.88\n",
            "[138 | 325.97] loss=2.64 avg=2.88\n",
            "[139 | 328.24] loss=2.81 avg=2.88\n",
            "[140 | 330.51] loss=2.59 avg=2.88\n",
            "[141 | 332.78] loss=2.74 avg=2.87\n",
            "[142 | 335.05] loss=2.68 avg=2.87\n",
            "[143 | 337.31] loss=2.71 avg=2.87\n",
            "[144 | 339.58] loss=2.56 avg=2.87\n",
            "[145 | 341.85] loss=2.58 avg=2.86\n",
            "[146 | 344.12] loss=2.83 avg=2.86\n",
            "[147 | 346.38] loss=2.70 avg=2.86\n",
            "[148 | 348.65] loss=2.74 avg=2.86\n",
            "[149 | 350.92] loss=2.68 avg=2.86\n",
            "[150 | 353.18] loss=2.73 avg=2.85\n",
            "[151 | 355.44] loss=2.66 avg=2.85\n",
            "[152 | 357.70] loss=2.78 avg=2.85\n",
            "[153 | 359.97] loss=2.55 avg=2.85\n",
            "[154 | 362.22] loss=2.73 avg=2.84\n",
            "[155 | 364.48] loss=2.83 avg=2.84\n",
            "[156 | 366.73] loss=2.70 avg=2.84\n",
            "[157 | 368.98] loss=2.59 avg=2.84\n",
            "[158 | 371.23] loss=2.69 avg=2.84\n",
            "[159 | 373.49] loss=2.58 avg=2.83\n",
            "[160 | 375.75] loss=2.66 avg=2.83\n",
            "[161 | 378.01] loss=2.68 avg=2.83\n",
            "[162 | 380.26] loss=2.69 avg=2.83\n",
            "[163 | 382.52] loss=2.78 avg=2.83\n",
            "[164 | 384.77] loss=2.56 avg=2.82\n",
            "[165 | 387.03] loss=2.63 avg=2.82\n",
            "[166 | 389.30] loss=2.67 avg=2.82\n",
            "[167 | 391.55] loss=2.46 avg=2.82\n",
            "[168 | 393.81] loss=2.56 avg=2.81\n",
            "[169 | 396.06] loss=2.70 avg=2.81\n",
            "[170 | 398.31] loss=2.61 avg=2.81\n",
            "[171 | 400.57] loss=2.50 avg=2.81\n",
            "[172 | 402.83] loss=2.73 avg=2.80\n",
            "[173 | 405.09] loss=2.56 avg=2.80\n",
            "[174 | 407.34] loss=2.77 avg=2.80\n",
            "[175 | 409.59] loss=2.71 avg=2.80\n",
            "[176 | 411.85] loss=2.51 avg=2.80\n",
            "[177 | 414.10] loss=2.78 avg=2.80\n",
            "[178 | 416.36] loss=2.68 avg=2.79\n",
            "[179 | 418.61] loss=2.69 avg=2.79\n",
            "[180 | 420.86] loss=2.73 avg=2.79\n",
            "[181 | 423.11] loss=2.77 avg=2.79\n",
            "[182 | 425.37] loss=2.55 avg=2.79\n",
            "[183 | 427.62] loss=2.51 avg=2.79\n",
            "[184 | 429.87] loss=2.58 avg=2.78\n",
            "[185 | 432.13] loss=2.73 avg=2.78\n",
            "[186 | 434.38] loss=2.87 avg=2.78\n",
            "[187 | 436.64] loss=2.78 avg=2.78\n",
            "[188 | 438.90] loss=2.52 avg=2.78\n",
            "[189 | 441.15] loss=2.56 avg=2.78\n",
            "[190 | 443.40] loss=2.42 avg=2.77\n",
            "[191 | 445.66] loss=2.49 avg=2.77\n",
            "[192 | 447.91] loss=2.71 avg=2.77\n",
            "[193 | 450.17] loss=2.69 avg=2.77\n",
            "[194 | 452.42] loss=2.51 avg=2.77\n",
            "[195 | 454.68] loss=2.60 avg=2.76\n",
            "[196 | 456.93] loss=2.45 avg=2.76\n",
            "[197 | 459.18] loss=2.55 avg=2.76\n",
            "[198 | 461.44] loss=2.46 avg=2.75\n",
            "[199 | 463.69] loss=2.55 avg=2.75\n",
            "[200 | 465.95] loss=2.40 avg=2.75\n",
            "======== SAMPLE 1 ========\n",
            " to \n",
            "\"They were there in the middle of the night. The last thing I remember is them coming at me. I don't \n",
            "know why they were there, but I'd heard it said the Night Brothers had sent down the Night Brothers \n",
            "to kill Joffrey in his place. Joffrey has never been more frightened by the Night Brothers.\" \n",
            "\"It was a big one, was it not?\" Arya asked her sister. \n",
            "\"You told me it would be a big big deal, not once, but I'm not here to tell you it wouldn't be.\" \n",
            "\"It wasn't your fault, the Stark men were there just to make up for the dead men,\" Eddard said. \n",
            "Page 321\n",
            "\n",
            "\"What did they make them for?\" \n",
            "\"They were waiting for me,\" Arya said. \"They told me to do their duty and I wouldn't walk away, but they \n",
            "said they'd come too soon. Once they've killed the Stark boys and stolen the women at the gatehouse, they'll go \n",
            "the others' ways. The next thing I remember is the Night's Watch coming up the ramparts and when they come down \n",
            "on us, they'll come for every Stark boy in the village.\" She reached around and took her arm. \"And where do \n",
            "you think they're waiting?\" \n",
            "\"The Wall,\" Eddard said. \"The Wall, it says at the top of every wall. No doubt some fool sent the \n",
            "Starks up there. They'll march on them all by day . . . and the Night's Watch has sent three hundred men \n",
            "and sent down the bannermen of the Night's Watch. You have seen the corpses.\" He looked at Arya. \"I \n",
            "look at the bodies, I see blood and bone and everything that they bring up. They call us the Night's \n",
            "Watch now, do you know how it is? We are the Night's Watch, the people of Night's \n",
            "Watch. The Night's Watch is here, the Wall is there. It calls itself the Stone of Fallen Men. What did it \n",
            "dare to send men across the river and raid a garrison at my lord father's castle?\" \n",
            "\"The Wall was there . . . to protect the Mother of the King,\" Sansa said. \n",
            "\"We were not sent to hunt down the king,\" Eddard said. \"They were all sent by the same traitor \n",
            "The Stark sons of Oak. The Hand's guards have never been seen.\" \n",
            "\"The king did send his sons in,\" Arya said. \"Did he?\" \n",
            "\"The Hand had some of his own guards, but not as many. His men were the first to leave the city, the \n",
            "stewardsons to the king and the dead. I mean, they are his son. You can call it our \n",
            "army now, though. A hundred men is a hundred times our size.\" \n",
            "\"Your strength is in numbers, Jory,\" Arya said. \n",
            "\"So they were waiting for me.\" \n",
            "\"I saw two, my sister.\" The wolf turned his head to look at them and laughed. \n",
            "\"You were the one who asked, heh,\" Ned said. \"I told you the truth. The Night's Watch is dead \n",
            "and gone. You must come back and see what we saw, you must help Sansa, talk to the Stark boys at the \n",
            "Old Town, call them and tell them what happened to me, help them to know the truth of what you've been \n",
            "doing, and you need to think like a man, talk like a man, not even a bastard, you need to tell them \n",
            "that what you're doing is wrong.\" \n",
            "\"Stop it, Sansa, the wolves are going to make it better for you,\" Ned said. \"They had better be \n",
            "someplace else. Some place you don't have. They won't touch you if you take a walk with the others.\" \n",
            "\"What are they doing to you?\" \n",
            "\"You don't understand, they were here in the night, looking for me.\" \n",
            "\"Stop it!\" Ned yelled. \n",
            "\"Stop it,\" Ned commanded her, \"and tell me they didn't come for you and why?\" \n",
            "\"The Night's Watch is not a watchmen's club,\" Sansa screamed at him. \"A wench's bandage. And the others say \n",
            "they heard a woman singing.\" \n",
            "\"Do you,\" Eddard said, \"what do you have to say? Do you have a father and a grandfather \n",
            "and a brother and sister, and two sons, two boys, and a father and sons? I've seen them all the same \n",
            "time. They're so thin and black and hard and black and\n",
            "\n",
            "[201 | 479.41] loss=2.63 avg=2.75\n",
            "[202 | 481.66] loss=2.64 avg=2.75\n",
            "[203 | 483.91] loss=2.65 avg=2.74\n",
            "[204 | 486.17] loss=2.60 avg=2.74\n",
            "[205 | 488.42] loss=2.41 avg=2.74\n",
            "[206 | 490.68] loss=2.41 avg=2.74\n",
            "[207 | 492.93] loss=2.58 avg=2.73\n",
            "[208 | 495.18] loss=2.47 avg=2.73\n",
            "[209 | 497.45] loss=2.63 avg=2.73\n",
            "[210 | 499.70] loss=2.65 avg=2.73\n",
            "[211 | 501.96] loss=2.60 avg=2.73\n",
            "[212 | 504.22] loss=2.52 avg=2.72\n",
            "[213 | 506.47] loss=2.54 avg=2.72\n",
            "[214 | 508.73] loss=2.62 avg=2.72\n",
            "[215 | 510.99] loss=2.41 avg=2.72\n",
            "[216 | 513.24] loss=2.60 avg=2.72\n",
            "[217 | 515.49] loss=2.41 avg=2.71\n",
            "[218 | 517.75] loss=2.39 avg=2.71\n",
            "[219 | 520.00] loss=2.52 avg=2.71\n",
            "[220 | 522.27] loss=2.28 avg=2.70\n",
            "[221 | 524.54] loss=2.55 avg=2.70\n",
            "[222 | 526.80] loss=2.29 avg=2.70\n",
            "[223 | 529.05] loss=2.42 avg=2.69\n",
            "[224 | 531.32] loss=2.47 avg=2.69\n",
            "[225 | 533.58] loss=2.44 avg=2.69\n",
            "[226 | 535.83] loss=2.59 avg=2.69\n",
            "[227 | 538.09] loss=2.44 avg=2.68\n",
            "[228 | 540.35] loss=2.34 avg=2.68\n",
            "[229 | 542.59] loss=2.56 avg=2.68\n",
            "[230 | 544.85] loss=2.46 avg=2.68\n",
            "[231 | 547.11] loss=2.53 avg=2.67\n",
            "[232 | 549.37] loss=2.59 avg=2.67\n",
            "[233 | 551.62] loss=2.33 avg=2.67\n",
            "[234 | 553.89] loss=2.50 avg=2.67\n",
            "[235 | 556.15] loss=2.30 avg=2.66\n",
            "[236 | 558.41] loss=2.81 avg=2.67\n",
            "[237 | 560.67] loss=2.31 avg=2.66\n",
            "[238 | 562.92] loss=2.36 avg=2.66\n",
            "[239 | 565.18] loss=2.54 avg=2.66\n",
            "[240 | 567.44] loss=2.34 avg=2.65\n",
            "[241 | 569.70] loss=2.35 avg=2.65\n",
            "[242 | 571.96] loss=2.32 avg=2.65\n",
            "[243 | 574.22] loss=2.30 avg=2.64\n",
            "[244 | 576.48] loss=2.39 avg=2.64\n",
            "[245 | 578.73] loss=2.56 avg=2.64\n",
            "[246 | 581.00] loss=2.51 avg=2.64\n",
            "[247 | 583.26] loss=2.45 avg=2.64\n",
            "[248 | 585.52] loss=2.41 avg=2.63\n",
            "[249 | 587.78] loss=2.49 avg=2.63\n",
            "[250 | 590.03] loss=2.47 avg=2.63\n",
            "[251 | 592.29] loss=2.38 avg=2.63\n",
            "[252 | 594.57] loss=2.22 avg=2.62\n",
            "[253 | 596.82] loss=2.58 avg=2.62\n",
            "[254 | 599.08] loss=2.41 avg=2.62\n",
            "[255 | 601.33] loss=2.28 avg=2.62\n",
            "[256 | 603.59] loss=2.42 avg=2.61\n",
            "[257 | 605.85] loss=2.40 avg=2.61\n",
            "[258 | 608.11] loss=2.63 avg=2.61\n",
            "[259 | 610.36] loss=2.39 avg=2.61\n",
            "[260 | 612.63] loss=2.49 avg=2.61\n",
            "[261 | 614.89] loss=2.45 avg=2.61\n",
            "[262 | 617.15] loss=2.45 avg=2.61\n",
            "[263 | 619.41] loss=2.61 avg=2.61\n",
            "[264 | 621.67] loss=2.54 avg=2.60\n",
            "[265 | 623.94] loss=2.36 avg=2.60\n",
            "[266 | 626.19] loss=2.48 avg=2.60\n",
            "[267 | 628.45] loss=2.39 avg=2.60\n",
            "[268 | 630.72] loss=2.44 avg=2.60\n",
            "[269 | 632.97] loss=2.23 avg=2.59\n",
            "[270 | 635.23] loss=2.41 avg=2.59\n",
            "[271 | 637.49] loss=2.08 avg=2.59\n",
            "[272 | 639.74] loss=2.49 avg=2.58\n",
            "[273 | 642.01] loss=2.70 avg=2.59\n",
            "[274 | 644.26] loss=2.32 avg=2.58\n",
            "[275 | 646.53] loss=2.21 avg=2.58\n",
            "[276 | 648.78] loss=2.34 avg=2.58\n",
            "[277 | 651.04] loss=2.56 avg=2.58\n",
            "[278 | 653.30] loss=2.35 avg=2.57\n",
            "[279 | 655.57] loss=2.30 avg=2.57\n",
            "[280 | 657.83] loss=2.18 avg=2.57\n",
            "[281 | 660.10] loss=2.28 avg=2.56\n",
            "[282 | 662.35] loss=2.11 avg=2.56\n",
            "[283 | 664.61] loss=2.35 avg=2.56\n",
            "[284 | 666.89] loss=2.22 avg=2.55\n",
            "[285 | 669.15] loss=2.46 avg=2.55\n",
            "[286 | 671.41] loss=2.43 avg=2.55\n",
            "[287 | 673.66] loss=2.36 avg=2.55\n",
            "[288 | 675.93] loss=2.31 avg=2.55\n",
            "[289 | 678.19] loss=2.19 avg=2.54\n",
            "[290 | 680.45] loss=2.34 avg=2.54\n",
            "[291 | 682.71] loss=2.37 avg=2.54\n",
            "[292 | 684.98] loss=2.41 avg=2.54\n",
            "[293 | 687.24] loss=2.32 avg=2.53\n",
            "[294 | 689.50] loss=2.24 avg=2.53\n",
            "[295 | 691.76] loss=2.39 avg=2.53\n",
            "[296 | 694.03] loss=2.20 avg=2.53\n",
            "[297 | 696.29] loss=2.20 avg=2.52\n",
            "[298 | 698.55] loss=2.23 avg=2.52\n",
            "[299 | 700.81] loss=2.30 avg=2.52\n",
            "[300 | 703.08] loss=2.25 avg=2.51\n",
            "======== SAMPLE 1 ========\n",
            " ? When he saw it \n",
            "from the \n",
            "platform, the lordling was as startled as any, his head pounding and his eyes \n",
            "gums opening to fill with worms. \n",
            "Ser Vardis turned back to the queen. \"Lady Tarth, I want you to know I am not a child, Tyrion Lannister.\" \n",
            "Tyrion's eyes were green and frightening in that horrible way, like a lion in summer. \"Your Grace, I \n",
            "am not a child. I am dead, Casterly Rock of, or Lannister I mean. I'm a child. My brothers shall know \n",
            "my pain tonight.\" \n",
            "\"Lord Varys,\" the lords manger said. \"Your mother said so. Your father and most of the \n",
            "Lannisters are like to know. I wonder if you are truly as helpless as this child. You do not even have time to \n",
            "think.\" \n",
            "\"We are as helpless as children,\" Tyrion said, \"but not as helpless as your uncle, the king. Your sister \n",
            "must watch over you. You are all of two minds, young and old, but two minds and a two \n",
            "woman have no business touching one another. You need to listen to them and be as concerned for your \n",
            "children and your future as you can be. If your sister does not like me, give me your word that I will \n",
            "send her back . . .\" \n",
            "Ser Vardis sighed. \"I hope so, Tyrion. Lord Eddard is always looking for ways to play his \n",
            "fool's game. A few years past he had come for my sister.\" He held out his dagger. \n",
            "Tyrion turned back. \"You've found a place, I presume?\" \n",
            "\"Yes, my lord. Come at once, do you intend to flee?\" \n",
            "\"Are you certain?\" Tyrion said, watching for a reply. \n",
            "The man was a tall man with a face of half a face, his dark grey hair beginning to \n",
            "flutter. \"I have no love for you, my lord. Do you understand?\" \n",
            "Page 497\n",
            "\n",
            "\"If truth be told, it seems it might kill us both . . . but if it was really that hard, you could just \n",
            "yours be damned and not my. I've decided . . . it would be best if my life were as simple as yours, child.\"  \n",
            "\"No, no. My sister wanted you.\" \n",
            "\"Why?\" Tyrion pressed him lightly against his body, his voice thick with fear. \"How do you know, child?\" \n",
            "The man did not comprehend \n",
            "here, Tyrion knew. He must know now, knowing the truth with his eyes. \n",
            "\"My father thought it best to send you away to the Eyrie, to study in the Free Cities, with \n",
            "your sister. You must know you have a place in the army. A place on the Wall . . . where \n",
            "you will face them.\" He pushed past, looking at the lordling, his face dark grey as dawn. Then, with \n",
            "a twist of his arm, the man reached up and bit at his ear, \n",
            "whispering. \n",
            "When the knight lifted his head, the lordling was half-joking. \"I am as blind as your eyes.\" \n",
            "\"It is not your eyes that you blame, my lord.\" \n",
            "\"Your eyes . . . but hers . . . Are you certain of it, Tyrion?\" \n",
            "He took the dagger, sharp pointed but strangely calm. \"Yes, Your Grace. The Eyrie is meant for a blind man, \n",
            "the eyes of vision, but you are blind now. You should take these as instructions, and try for the \n",
            "same. That might be the end of it.\" \n",
            "It was not enough to deny his offer, Tyrion knew, it would not last for long. A few more \n",
            "years, he was certain, and the words would reach him. \"I am not blind,\" he said \n",
            "slowly, his voice still thick as frozen snow. \"You are blind, Your Grace.\" \n",
            "Tyrion Lannister turned away, eyes fixed on the ground, and moved on. \"How did your \n",
            "grace get here? What did she do to you?\" \n",
            "He was not certain. \"He wanted to see.\" \n",
            "\"His Grace? Yes. She would see him from her window, so you could see how hungry you were, \n",
            "how proud you were, just in time to see the girl eat some good apple, and see how your brother \n",
            "bungle up from sleep. Maybe you \n",
            "were right, that man . . . your sister was a fierce woman, but there was no one like her at \n",
            "the Eyrie.\n",
            "\n",
            "[301 | 716.37] loss=2.40 avg=2.51\n",
            "[302 | 718.63] loss=2.51 avg=2.51\n",
            "[303 | 720.89] loss=2.27 avg=2.51\n",
            "[304 | 723.15] loss=2.25 avg=2.51\n",
            "[305 | 725.41] loss=2.35 avg=2.51\n",
            "[306 | 727.67] loss=2.59 avg=2.51\n",
            "[307 | 729.93] loss=2.27 avg=2.51\n",
            "[308 | 732.19] loss=2.33 avg=2.50\n",
            "[309 | 734.44] loss=2.26 avg=2.50\n",
            "[310 | 736.70] loss=2.17 avg=2.50\n",
            "[311 | 738.97] loss=2.36 avg=2.50\n",
            "[312 | 741.23] loss=2.33 avg=2.49\n",
            "[313 | 743.49] loss=2.25 avg=2.49\n",
            "[314 | 745.75] loss=2.49 avg=2.49\n",
            "[315 | 748.00] loss=2.20 avg=2.49\n",
            "[316 | 750.27] loss=2.30 avg=2.49\n",
            "[317 | 752.54] loss=2.54 avg=2.49\n",
            "[318 | 754.80] loss=2.27 avg=2.48\n",
            "[319 | 757.05] loss=2.15 avg=2.48\n",
            "[320 | 759.31] loss=2.06 avg=2.48\n",
            "[321 | 761.56] loss=2.44 avg=2.48\n",
            "[322 | 763.83] loss=2.11 avg=2.47\n",
            "[323 | 766.09] loss=2.10 avg=2.47\n",
            "[324 | 768.35] loss=2.42 avg=2.47\n",
            "[325 | 770.60] loss=2.10 avg=2.46\n",
            "[326 | 772.86] loss=2.07 avg=2.46\n",
            "[327 | 775.12] loss=2.10 avg=2.46\n",
            "[328 | 777.37] loss=2.15 avg=2.45\n",
            "[329 | 779.64] loss=2.42 avg=2.45\n",
            "[330 | 781.90] loss=1.92 avg=2.45\n",
            "[331 | 784.16] loss=1.97 avg=2.44\n",
            "[332 | 786.42] loss=2.15 avg=2.44\n",
            "[333 | 788.68] loss=2.47 avg=2.44\n",
            "[334 | 790.94] loss=2.13 avg=2.44\n",
            "[335 | 793.21] loss=2.12 avg=2.43\n",
            "[336 | 795.47] loss=2.01 avg=2.43\n",
            "[337 | 797.72] loss=2.20 avg=2.43\n",
            "[338 | 799.99] loss=2.42 avg=2.43\n",
            "[339 | 802.24] loss=2.54 avg=2.43\n",
            "[340 | 804.50] loss=2.26 avg=2.43\n",
            "[341 | 806.76] loss=2.47 avg=2.43\n",
            "[342 | 809.01] loss=2.14 avg=2.42\n",
            "[343 | 811.28] loss=2.41 avg=2.42\n",
            "[344 | 813.54] loss=2.20 avg=2.42\n",
            "[345 | 815.79] loss=2.18 avg=2.42\n",
            "[346 | 818.06] loss=2.26 avg=2.42\n",
            "[347 | 820.31] loss=2.35 avg=2.42\n",
            "[348 | 822.58] loss=2.02 avg=2.41\n",
            "[349 | 824.84] loss=2.05 avg=2.41\n",
            "[350 | 827.09] loss=2.23 avg=2.41\n",
            "[351 | 829.35] loss=2.15 avg=2.40\n",
            "[352 | 831.61] loss=1.97 avg=2.40\n",
            "[353 | 833.87] loss=2.08 avg=2.40\n",
            "[354 | 836.13] loss=2.28 avg=2.40\n",
            "[355 | 838.39] loss=2.22 avg=2.39\n",
            "[356 | 840.66] loss=2.18 avg=2.39\n",
            "[357 | 842.92] loss=2.14 avg=2.39\n",
            "[358 | 845.17] loss=2.08 avg=2.39\n",
            "[359 | 847.43] loss=2.05 avg=2.38\n",
            "[360 | 849.70] loss=2.51 avg=2.38\n",
            "[361 | 851.95] loss=2.34 avg=2.38\n",
            "[362 | 854.21] loss=1.91 avg=2.38\n",
            "[363 | 856.47] loss=2.12 avg=2.38\n",
            "[364 | 858.73] loss=1.81 avg=2.37\n",
            "[365 | 861.00] loss=2.07 avg=2.37\n",
            "[366 | 863.27] loss=1.99 avg=2.36\n",
            "[367 | 865.53] loss=2.09 avg=2.36\n",
            "[368 | 867.78] loss=2.12 avg=2.36\n",
            "[369 | 870.05] loss=2.26 avg=2.36\n",
            "[370 | 872.31] loss=2.01 avg=2.35\n",
            "[371 | 874.57] loss=1.95 avg=2.35\n",
            "[372 | 876.83] loss=2.26 avg=2.35\n",
            "[373 | 879.09] loss=1.90 avg=2.34\n",
            "[374 | 881.35] loss=2.27 avg=2.34\n",
            "[375 | 883.62] loss=2.14 avg=2.34\n",
            "[376 | 885.89] loss=2.04 avg=2.34\n",
            "[377 | 888.15] loss=1.86 avg=2.33\n",
            "[378 | 890.42] loss=2.09 avg=2.33\n",
            "[379 | 892.68] loss=2.09 avg=2.33\n",
            "[380 | 894.94] loss=2.04 avg=2.32\n",
            "[381 | 897.21] loss=1.78 avg=2.32\n",
            "[382 | 899.47] loss=1.75 avg=2.31\n",
            "[383 | 901.73] loss=1.92 avg=2.31\n",
            "[384 | 903.99] loss=2.14 avg=2.31\n",
            "[385 | 906.25] loss=2.13 avg=2.31\n",
            "[386 | 908.52] loss=1.95 avg=2.30\n",
            "[387 | 910.77] loss=2.05 avg=2.30\n",
            "[388 | 913.03] loss=2.31 avg=2.30\n",
            "[389 | 915.29] loss=2.07 avg=2.30\n",
            "[390 | 917.55] loss=1.97 avg=2.29\n",
            "[391 | 919.82] loss=2.28 avg=2.29\n",
            "[392 | 922.08] loss=2.13 avg=2.29\n",
            "[393 | 924.34] loss=1.93 avg=2.29\n",
            "[394 | 926.60] loss=1.92 avg=2.28\n",
            "[395 | 928.87] loss=1.60 avg=2.28\n",
            "[396 | 931.14] loss=2.14 avg=2.28\n",
            "[397 | 933.40] loss=1.64 avg=2.27\n",
            "[398 | 935.67] loss=1.87 avg=2.27\n",
            "[399 | 937.93] loss=2.06 avg=2.26\n",
            "[400 | 940.19] loss=1.99 avg=2.26\n",
            "======== SAMPLE 1 ========\n",
            ", the \n",
            "stark voice echoed through the woods and past thickets, the rumbling of blades and hammers as \n",
            "steps drifted by with a wooden harpoon. The stream was red and bloodless; the horse \n",
            "was dead; the man who led her back to him was a bald man with the red face, head on \n",
            "his shoulders, all but the stammering hair. When you had seen the north, a girl always told me of, how \n",
            "the north turned south; how cities fell, war came to men, and women began to fly. \n",
            "In the darkness, a voice whispered. And first the moon came forth. A woman in sky-blue dress \n",
            "beaded, her long thin thin gown swaying, two slender bastards watched from the rushes. \n",
            "\"The sun is red,\" the voice whispered again. \n",
            "The sun is red . . . only red . . . oh, how it has been, my lord. Oh, how it had been! I know it every \n",
            "thing, so it has been. The sun is red . . . only red . . . oh, how it has been. I know it everytho, everyt, every and \n",
            "every who. How it has been, my lord. I know it. How it has been. How it has been, my lord. \n",
            "A cold finger crept across the rushes, scraping at the cold with an awkward silence. \"The sun is red,\" it \n",
            "was once again. \"My brother is . . . red as blood. The sun can't read long, My lord will not hear. He's like a \n",
            "snake in a mouth, he's not trusting enough. The sun cannot stay in the dark. I'll be damned if My \n",
            "lord will listen to you, my lord.\" \n",
            "A chill crept across the woods. The sun can't hurt you, My lord will not listen to you, my \n",
            "lord. The woods cannot hold an enemy in place. The earth cannot hold a man on his back, My \n",
            "lord. The earth cannot hold men with their shit wrapped up legs, My lord, yet the earth cannot hold a \n",
            "man with their shit wrapped up legs, Yet the darkness cannot hold the darkness. The seed could, but . . . \n",
            "\"You can't lie to the king! Tell him, child, we can't lie to the king! He's our king, I told him! How many times \n",
            "he said one! How many timeshe said two, how many timeshe said three! He can't leave it at all, he can't, \n",
            "He can't! He's too hard on the eyes, too hard on the head! He's too hard on the eyes too, I could see it, I could feel it . . . \n",
            "The seed cannot take your head off, I promised, I swear, I'd slit my fingers off before we went our separate ways, \n",
            "if the king thought it was wise. He was right, I promised, I promised . . . you heard me, I told him, we'll talk when we're \n",
            "together, no word of it will change his mind, he'll be ready soon, I promise, I'll be there for him, we'll be at it together, \n",
            "no word from the queen, no word from the king, I want him to go ahead and tell me, he's with me. He's with \n",
            "me. We'll be as good as brothers, the man will stay on a king's good side, I promise it . . . and . . He's with me . . . \n",
            "A chill rose over the rushes. One might even have guessed that it had reached the heights, but . . . \n",
            ". Ned's legs were tired. There was no way his lordship would be faring so well. \"How many times can I \n",
            "promise?\" \n",
            "The king's mouth twisted, his hands curled around something, his breathing quick and deliberate. \"I would say, four, six, seven, you get the \n",
            "one, you can't cheat, no one's ever cheated, they just die too old, they die too fast.\" \n",
            "Ned gave the offer. He smiled. \"I'll give you two. Three, you get the boy, you leave, you're off for \n",
            "Winterfell. Do you need any more?\" \n",
            ". . . . \"No, I don't.\" \n",
            "Bran steadied himself as his sons entered the room behind him. The queen had called on her blessings. \n",
            "\"Bran, help me get this man home,\" the queen said. \"You can be sure we'll have time to think of the \n",
            "nursing. I have some visitors at my back, I've seen them, some not. Bran says he's been here a\n",
            "\n",
            "[401 | 953.56] loss=2.13 avg=2.26\n",
            "[402 | 955.83] loss=1.89 avg=2.26\n",
            "[403 | 958.08] loss=1.99 avg=2.25\n",
            "[404 | 960.34] loss=2.00 avg=2.25\n",
            "[405 | 962.59] loss=2.02 avg=2.25\n",
            "[406 | 964.85] loss=1.78 avg=2.24\n",
            "[407 | 967.11] loss=1.90 avg=2.24\n",
            "[408 | 969.37] loss=2.17 avg=2.24\n",
            "[409 | 971.64] loss=2.01 avg=2.24\n",
            "[410 | 973.89] loss=2.21 avg=2.24\n",
            "[411 | 976.16] loss=1.77 avg=2.23\n",
            "[412 | 978.42] loss=2.07 avg=2.23\n",
            "[413 | 980.69] loss=2.06 avg=2.23\n",
            "[414 | 982.94] loss=1.89 avg=2.22\n",
            "[415 | 985.20] loss=2.08 avg=2.22\n",
            "[416 | 987.46] loss=1.94 avg=2.22\n",
            "[417 | 989.72] loss=1.74 avg=2.22\n",
            "[418 | 991.98] loss=1.86 avg=2.21\n",
            "[419 | 994.24] loss=2.04 avg=2.21\n",
            "[420 | 996.50] loss=2.02 avg=2.21\n",
            "[421 | 998.76] loss=1.86 avg=2.20\n",
            "[422 | 1001.02] loss=1.67 avg=2.20\n",
            "[423 | 1003.28] loss=2.32 avg=2.20\n",
            "[424 | 1005.54] loss=1.91 avg=2.20\n",
            "[425 | 1007.80] loss=1.79 avg=2.19\n",
            "[426 | 1010.06] loss=2.14 avg=2.19\n",
            "[427 | 1012.32] loss=1.83 avg=2.19\n",
            "[428 | 1014.58] loss=2.42 avg=2.19\n",
            "[429 | 1016.86] loss=1.93 avg=2.19\n",
            "[430 | 1019.12] loss=1.92 avg=2.19\n",
            "[431 | 1021.38] loss=1.88 avg=2.18\n",
            "[432 | 1023.65] loss=2.06 avg=2.18\n",
            "[433 | 1025.90] loss=1.79 avg=2.18\n",
            "[434 | 1028.17] loss=1.69 avg=2.17\n",
            "[435 | 1030.44] loss=1.89 avg=2.17\n",
            "[436 | 1032.70] loss=1.80 avg=2.17\n",
            "[437 | 1034.96] loss=1.62 avg=2.16\n",
            "[438 | 1037.22] loss=2.23 avg=2.16\n",
            "[439 | 1039.48] loss=1.88 avg=2.16\n",
            "[440 | 1041.75] loss=2.17 avg=2.16\n",
            "[441 | 1044.01] loss=1.73 avg=2.15\n",
            "[442 | 1046.27] loss=2.11 avg=2.15\n",
            "[443 | 1048.53] loss=2.22 avg=2.15\n",
            "[444 | 1050.79] loss=1.86 avg=2.15\n",
            "[445 | 1053.06] loss=1.89 avg=2.15\n",
            "[446 | 1055.32] loss=2.12 avg=2.15\n",
            "[447 | 1057.59] loss=2.17 avg=2.15\n",
            "[448 | 1059.84] loss=2.19 avg=2.15\n",
            "[449 | 1062.11] loss=1.76 avg=2.15\n",
            "[450 | 1064.37] loss=1.95 avg=2.14\n",
            "[451 | 1066.64] loss=2.06 avg=2.14\n",
            "[452 | 1068.90] loss=1.99 avg=2.14\n",
            "[453 | 1071.16] loss=1.86 avg=2.14\n",
            "[454 | 1073.42] loss=2.07 avg=2.14\n",
            "[455 | 1075.67] loss=1.57 avg=2.13\n",
            "[456 | 1077.94] loss=2.36 avg=2.13\n",
            "[457 | 1080.21] loss=2.01 avg=2.13\n",
            "[458 | 1082.47] loss=2.21 avg=2.13\n",
            "[459 | 1084.72] loss=1.69 avg=2.13\n",
            "[460 | 1086.99] loss=2.09 avg=2.13\n",
            "[461 | 1089.25] loss=1.74 avg=2.12\n",
            "[462 | 1091.52] loss=1.76 avg=2.12\n",
            "[463 | 1093.77] loss=2.11 avg=2.12\n",
            "[464 | 1096.04] loss=1.67 avg=2.12\n",
            "[465 | 1098.30] loss=1.98 avg=2.11\n",
            "[466 | 1100.57] loss=1.88 avg=2.11\n",
            "[467 | 1102.84] loss=1.87 avg=2.11\n",
            "[468 | 1105.11] loss=1.79 avg=2.11\n",
            "[469 | 1107.36] loss=1.78 avg=2.10\n",
            "[470 | 1109.63] loss=1.94 avg=2.10\n",
            "[471 | 1111.89] loss=1.82 avg=2.10\n",
            "[472 | 1114.16] loss=1.54 avg=2.09\n",
            "[473 | 1116.42] loss=1.63 avg=2.09\n",
            "[474 | 1118.68] loss=2.01 avg=2.09\n",
            "[475 | 1120.95] loss=1.67 avg=2.08\n",
            "[476 | 1123.20] loss=1.76 avg=2.08\n",
            "[477 | 1125.48] loss=2.02 avg=2.08\n",
            "[478 | 1127.74] loss=1.74 avg=2.08\n",
            "[479 | 1130.01] loss=1.67 avg=2.07\n",
            "[480 | 1132.27] loss=1.85 avg=2.07\n",
            "[481 | 1134.52] loss=1.55 avg=2.06\n",
            "[482 | 1136.79] loss=1.93 avg=2.06\n",
            "[483 | 1139.05] loss=1.82 avg=2.06\n",
            "[484 | 1141.32] loss=1.95 avg=2.06\n",
            "[485 | 1143.57] loss=2.13 avg=2.06\n",
            "[486 | 1145.84] loss=1.70 avg=2.06\n",
            "[487 | 1148.10] loss=2.17 avg=2.06\n",
            "[488 | 1150.36] loss=1.74 avg=2.06\n",
            "[489 | 1152.62] loss=1.75 avg=2.05\n",
            "[490 | 1154.88] loss=1.59 avg=2.05\n",
            "[491 | 1157.14] loss=1.81 avg=2.04\n",
            "[492 | 1159.39] loss=2.19 avg=2.05\n",
            "[493 | 1161.66] loss=1.78 avg=2.04\n",
            "[494 | 1163.92] loss=1.39 avg=2.04\n",
            "[495 | 1166.18] loss=2.20 avg=2.04\n",
            "[496 | 1168.44] loss=1.65 avg=2.03\n",
            "[497 | 1170.70] loss=1.85 avg=2.03\n",
            "[498 | 1172.96] loss=1.71 avg=2.03\n",
            "[499 | 1175.22] loss=1.75 avg=2.03\n",
            "[500 | 1177.48] loss=1.49 avg=2.02\n",
            "Saving checkpoint/run1/model-500\n"
          ]
        }
      ]
    },
    {
      "cell_type": "markdown",
      "source": [
        "###Text generation"
      ],
      "metadata": {
        "id": "bUagiJzBTeoL"
      }
    },
    {
      "cell_type": "code",
      "source": [
        "prefix = \"Is there a second Earth?\""
      ],
      "metadata": {
        "id": "qzTK7bdIPeOY"
      },
      "execution_count": 16,
      "outputs": []
    },
    {
      "cell_type": "code",
      "source": [
        "gpt2.generate(sess, prefix=prefix, length=150)"
      ],
      "metadata": {
        "id": "ZCaaNXR7kI9I",
        "colab": {
          "base_uri": "https://localhost:8080/",
          "height": 1000
        },
        "outputId": "0c4cef3c-697b-406c-dc37-e6840aeae44a"
      },
      "execution_count": 17,
      "outputs": [
        {
          "output_type": "error",
          "ename": "FailedPreconditionError",
          "evalue": "ignored",
          "traceback": [
            "\u001b[0;31m---------------------------------------------------------------------------\u001b[0m",
            "\u001b[0;31mFailedPreconditionError\u001b[0m                   Traceback (most recent call last)",
            "\u001b[0;32m/usr/local/lib/python3.9/dist-packages/tensorflow/python/client/session.py\u001b[0m in \u001b[0;36m_do_call\u001b[0;34m(self, fn, *args)\u001b[0m\n\u001b[1;32m   1377\u001b[0m     \u001b[0;32mtry\u001b[0m\u001b[0;34m:\u001b[0m\u001b[0;34m\u001b[0m\u001b[0;34m\u001b[0m\u001b[0m\n\u001b[0;32m-> 1378\u001b[0;31m       \u001b[0;32mreturn\u001b[0m \u001b[0mfn\u001b[0m\u001b[0;34m(\u001b[0m\u001b[0;34m*\u001b[0m\u001b[0margs\u001b[0m\u001b[0;34m)\u001b[0m\u001b[0;34m\u001b[0m\u001b[0;34m\u001b[0m\u001b[0m\n\u001b[0m\u001b[1;32m   1379\u001b[0m     \u001b[0;32mexcept\u001b[0m \u001b[0merrors\u001b[0m\u001b[0;34m.\u001b[0m\u001b[0mOpError\u001b[0m \u001b[0;32mas\u001b[0m \u001b[0me\u001b[0m\u001b[0;34m:\u001b[0m\u001b[0;34m\u001b[0m\u001b[0;34m\u001b[0m\u001b[0m\n",
            "\u001b[0;32m/usr/local/lib/python3.9/dist-packages/tensorflow/python/client/session.py\u001b[0m in \u001b[0;36m_run_fn\u001b[0;34m(feed_dict, fetch_list, target_list, options, run_metadata)\u001b[0m\n\u001b[1;32m   1360\u001b[0m       \u001b[0mself\u001b[0m\u001b[0;34m.\u001b[0m\u001b[0m_extend_graph\u001b[0m\u001b[0;34m(\u001b[0m\u001b[0;34m)\u001b[0m\u001b[0;34m\u001b[0m\u001b[0;34m\u001b[0m\u001b[0m\n\u001b[0;32m-> 1361\u001b[0;31m       return self._call_tf_sessionrun(options, feed_dict, fetch_list,\n\u001b[0m\u001b[1;32m   1362\u001b[0m                                       target_list, run_metadata)\n",
            "\u001b[0;32m/usr/local/lib/python3.9/dist-packages/tensorflow/python/client/session.py\u001b[0m in \u001b[0;36m_call_tf_sessionrun\u001b[0;34m(self, options, feed_dict, fetch_list, target_list, run_metadata)\u001b[0m\n\u001b[1;32m   1453\u001b[0m                           run_metadata):\n\u001b[0;32m-> 1454\u001b[0;31m     return tf_session.TF_SessionRun_wrapper(self._session, options, feed_dict,\n\u001b[0m\u001b[1;32m   1455\u001b[0m                                             \u001b[0mfetch_list\u001b[0m\u001b[0;34m,\u001b[0m \u001b[0mtarget_list\u001b[0m\u001b[0;34m,\u001b[0m\u001b[0;34m\u001b[0m\u001b[0;34m\u001b[0m\u001b[0m\n",
            "\u001b[0;31mFailedPreconditionError\u001b[0m: 2 root error(s) found.\n  (0) FAILED_PRECONDITION: Could not find variable model/h7/attn/c_proj/b. This could mean that the variable has been deleted. In TF1, it can also mean the variable is uninitialized. Debug info: container=localhost, status error message=Container localhost does not exist. (Could not find resource: localhost/model/h7/attn/c_proj/b)\n\t [[{{node sample_sequence_1/model/h7/attn/c_proj/add/ReadVariableOp}}]]\n\t [[strided_slice_1/_59]]\n  (1) FAILED_PRECONDITION: Could not find variable model/h7/attn/c_proj/b. This could mean that the variable has been deleted. In TF1, it can also mean the variable is uninitialized. Debug info: container=localhost, status error message=Container localhost does not exist. (Could not find resource: localhost/model/h7/attn/c_proj/b)\n\t [[{{node sample_sequence_1/model/h7/attn/c_proj/add/ReadVariableOp}}]]\n0 successful operations.\n0 derived errors ignored.",
            "\nDuring handling of the above exception, another exception occurred:\n",
            "\u001b[0;31mFailedPreconditionError\u001b[0m                   Traceback (most recent call last)",
            "\u001b[0;32m<ipython-input-17-5b52ef598778>\u001b[0m in \u001b[0;36m<module>\u001b[0;34m\u001b[0m\n\u001b[0;32m----> 1\u001b[0;31m \u001b[0mgpt2\u001b[0m\u001b[0;34m.\u001b[0m\u001b[0mgenerate\u001b[0m\u001b[0;34m(\u001b[0m\u001b[0msess\u001b[0m\u001b[0;34m,\u001b[0m \u001b[0mprefix\u001b[0m\u001b[0;34m=\u001b[0m\u001b[0mprefix\u001b[0m\u001b[0;34m,\u001b[0m \u001b[0mlength\u001b[0m\u001b[0;34m=\u001b[0m\u001b[0;36m150\u001b[0m\u001b[0;34m)\u001b[0m\u001b[0;34m\u001b[0m\u001b[0;34m\u001b[0m\u001b[0m\n\u001b[0m",
            "\u001b[0;32m/usr/local/lib/python3.9/dist-packages/gpt_2_simple/gpt_2.py\u001b[0m in \u001b[0;36mgenerate\u001b[0;34m(sess, run_name, checkpoint_dir, model_name, model_dir, sample_dir, return_as_list, truncate, destination_path, sample_delim, prefix, seed, nsamples, batch_size, length, temperature, top_k, top_p, include_prefix)\u001b[0m\n\u001b[1;32m    477\u001b[0m             \u001b[0mout\u001b[0m \u001b[0;34m=\u001b[0m \u001b[0msess\u001b[0m\u001b[0;34m.\u001b[0m\u001b[0mrun\u001b[0m\u001b[0;34m(\u001b[0m\u001b[0moutput\u001b[0m\u001b[0;34m)\u001b[0m\u001b[0;34m\u001b[0m\u001b[0;34m\u001b[0m\u001b[0m\n\u001b[1;32m    478\u001b[0m         \u001b[0;32melse\u001b[0m\u001b[0;34m:\u001b[0m\u001b[0;34m\u001b[0m\u001b[0;34m\u001b[0m\u001b[0m\n\u001b[0;32m--> 479\u001b[0;31m             out = sess.run(output, feed_dict={\n\u001b[0m\u001b[1;32m    480\u001b[0m                     \u001b[0mcontext\u001b[0m\u001b[0;34m:\u001b[0m \u001b[0mbatch_size\u001b[0m \u001b[0;34m*\u001b[0m \u001b[0;34m[\u001b[0m\u001b[0mcontext_tokens\u001b[0m\u001b[0;34m]\u001b[0m\u001b[0;34m\u001b[0m\u001b[0;34m\u001b[0m\u001b[0m\n\u001b[1;32m    481\u001b[0m                 })\n",
            "\u001b[0;32m/usr/local/lib/python3.9/dist-packages/tensorflow/python/client/session.py\u001b[0m in \u001b[0;36mrun\u001b[0;34m(self, fetches, feed_dict, options, run_metadata)\u001b[0m\n\u001b[1;32m    966\u001b[0m \u001b[0;34m\u001b[0m\u001b[0m\n\u001b[1;32m    967\u001b[0m     \u001b[0;32mtry\u001b[0m\u001b[0;34m:\u001b[0m\u001b[0;34m\u001b[0m\u001b[0;34m\u001b[0m\u001b[0m\n\u001b[0;32m--> 968\u001b[0;31m       result = self._run(None, fetches, feed_dict, options_ptr,\n\u001b[0m\u001b[1;32m    969\u001b[0m                          run_metadata_ptr)\n\u001b[1;32m    970\u001b[0m       \u001b[0;32mif\u001b[0m \u001b[0mrun_metadata\u001b[0m\u001b[0;34m:\u001b[0m\u001b[0;34m\u001b[0m\u001b[0;34m\u001b[0m\u001b[0m\n",
            "\u001b[0;32m/usr/local/lib/python3.9/dist-packages/tensorflow/python/client/session.py\u001b[0m in \u001b[0;36m_run\u001b[0;34m(self, handle, fetches, feed_dict, options, run_metadata)\u001b[0m\n\u001b[1;32m   1189\u001b[0m     \u001b[0;31m# or if the call is a partial run that specifies feeds.\u001b[0m\u001b[0;34m\u001b[0m\u001b[0;34m\u001b[0m\u001b[0m\n\u001b[1;32m   1190\u001b[0m     \u001b[0;32mif\u001b[0m \u001b[0mfinal_fetches\u001b[0m \u001b[0;32mor\u001b[0m \u001b[0mfinal_targets\u001b[0m \u001b[0;32mor\u001b[0m \u001b[0;34m(\u001b[0m\u001b[0mhandle\u001b[0m \u001b[0;32mand\u001b[0m \u001b[0mfeed_dict_tensor\u001b[0m\u001b[0;34m)\u001b[0m\u001b[0;34m:\u001b[0m\u001b[0;34m\u001b[0m\u001b[0;34m\u001b[0m\u001b[0m\n\u001b[0;32m-> 1191\u001b[0;31m       results = self._do_run(handle, final_targets, final_fetches,\n\u001b[0m\u001b[1;32m   1192\u001b[0m                              feed_dict_tensor, options, run_metadata)\n\u001b[1;32m   1193\u001b[0m     \u001b[0;32melse\u001b[0m\u001b[0;34m:\u001b[0m\u001b[0;34m\u001b[0m\u001b[0;34m\u001b[0m\u001b[0m\n",
            "\u001b[0;32m/usr/local/lib/python3.9/dist-packages/tensorflow/python/client/session.py\u001b[0m in \u001b[0;36m_do_run\u001b[0;34m(self, handle, target_list, fetch_list, feed_dict, options, run_metadata)\u001b[0m\n\u001b[1;32m   1369\u001b[0m \u001b[0;34m\u001b[0m\u001b[0m\n\u001b[1;32m   1370\u001b[0m     \u001b[0;32mif\u001b[0m \u001b[0mhandle\u001b[0m \u001b[0;32mis\u001b[0m \u001b[0;32mNone\u001b[0m\u001b[0;34m:\u001b[0m\u001b[0;34m\u001b[0m\u001b[0;34m\u001b[0m\u001b[0m\n\u001b[0;32m-> 1371\u001b[0;31m       return self._do_call(_run_fn, feeds, fetches, targets, options,\n\u001b[0m\u001b[1;32m   1372\u001b[0m                            run_metadata)\n\u001b[1;32m   1373\u001b[0m     \u001b[0;32melse\u001b[0m\u001b[0;34m:\u001b[0m\u001b[0;34m\u001b[0m\u001b[0;34m\u001b[0m\u001b[0m\n",
            "\u001b[0;32m/usr/local/lib/python3.9/dist-packages/tensorflow/python/client/session.py\u001b[0m in \u001b[0;36m_do_call\u001b[0;34m(self, fn, *args)\u001b[0m\n\u001b[1;32m   1395\u001b[0m                     \u001b[0;34m'\\nsession_config.graph_options.rewrite_options.'\u001b[0m\u001b[0;34m\u001b[0m\u001b[0;34m\u001b[0m\u001b[0m\n\u001b[1;32m   1396\u001b[0m                     'disable_meta_optimizer = True')\n\u001b[0;32m-> 1397\u001b[0;31m       \u001b[0;32mraise\u001b[0m \u001b[0mtype\u001b[0m\u001b[0;34m(\u001b[0m\u001b[0me\u001b[0m\u001b[0;34m)\u001b[0m\u001b[0;34m(\u001b[0m\u001b[0mnode_def\u001b[0m\u001b[0;34m,\u001b[0m \u001b[0mop\u001b[0m\u001b[0;34m,\u001b[0m \u001b[0mmessage\u001b[0m\u001b[0;34m)\u001b[0m  \u001b[0;31m# pylint: disable=no-value-for-parameter\u001b[0m\u001b[0;34m\u001b[0m\u001b[0;34m\u001b[0m\u001b[0m\n\u001b[0m\u001b[1;32m   1398\u001b[0m \u001b[0;34m\u001b[0m\u001b[0m\n\u001b[1;32m   1399\u001b[0m   \u001b[0;32mdef\u001b[0m \u001b[0m_extend_graph\u001b[0m\u001b[0;34m(\u001b[0m\u001b[0mself\u001b[0m\u001b[0;34m)\u001b[0m\u001b[0;34m:\u001b[0m\u001b[0;34m\u001b[0m\u001b[0;34m\u001b[0m\u001b[0m\n",
            "\u001b[0;31mFailedPreconditionError\u001b[0m: Graph execution error:\n\nDetected at node 'sample_sequence_1/model/h7/attn/c_proj/add/ReadVariableOp' defined at (most recent call last):\n    File \"/usr/lib/python3.9/runpy.py\", line 197, in _run_module_as_main\n      return _run_code(code, main_globals, None,\n    File \"/usr/lib/python3.9/runpy.py\", line 87, in _run_code\n      exec(code, run_globals)\n    File \"/usr/local/lib/python3.9/dist-packages/ipykernel_launcher.py\", line 16, in <module>\n      app.launch_new_instance()\n    File \"/usr/local/lib/python3.9/dist-packages/traitlets/config/application.py\", line 992, in launch_instance\n      app.start()\n    File \"/usr/local/lib/python3.9/dist-packages/ipykernel/kernelapp.py\", line 612, in start\n      self.io_loop.start()\n    File \"/usr/local/lib/python3.9/dist-packages/tornado/platform/asyncio.py\", line 215, in start\n      self.asyncio_loop.run_forever()\n    File \"/usr/lib/python3.9/asyncio/base_events.py\", line 601, in run_forever\n      self._run_once()\n    File \"/usr/lib/python3.9/asyncio/base_events.py\", line 1905, in _run_once\n      handle._run()\n    File \"/usr/lib/python3.9/asyncio/events.py\", line 80, in _run\n      self._context.run(self._callback, *self._args)\n    File \"/usr/local/lib/python3.9/dist-packages/tornado/ioloop.py\", line 687, in <lambda>\n      lambda f: self._run_callback(functools.partial(callback, future))\n    File \"/usr/local/lib/python3.9/dist-packages/tornado/ioloop.py\", line 740, in _run_callback\n      ret = callback()\n    File \"/usr/local/lib/python3.9/dist-packages/tornado/gen.py\", line 821, in inner\n      self.ctx_run(self.run)\n    File \"/usr/local/lib/python3.9/dist-packages/tornado/gen.py\", line 782, in run\n      yielded = self.gen.send(value)\n    File \"/usr/local/lib/python3.9/dist-packages/ipykernel/kernelbase.py\", line 365, in process_one\n      yield gen.maybe_future(dispatch(*args))\n    File \"/usr/local/lib/python3.9/dist-packages/tornado/gen.py\", line 234, in wrapper\n      yielded = ctx_run(next, result)\n    File \"/usr/local/lib/python3.9/dist-packages/ipykernel/kernelbase.py\", line 268, in dispatch_shell\n      yield gen.maybe_future(handler(stream, idents, msg))\n    File \"/usr/local/lib/python3.9/dist-packages/tornado/gen.py\", line 234, in wrapper\n      yielded = ctx_run(next, result)\n    File \"/usr/local/lib/python3.9/dist-packages/ipykernel/kernelbase.py\", line 543, in execute_request\n      self.do_execute(\n    File \"/usr/local/lib/python3.9/dist-packages/tornado/gen.py\", line 234, in wrapper\n      yielded = ctx_run(next, result)\n    File \"/usr/local/lib/python3.9/dist-packages/ipykernel/ipkernel.py\", line 306, in do_execute\n      res = shell.run_cell(code, store_history=store_history, silent=silent)\n    File \"/usr/local/lib/python3.9/dist-packages/ipykernel/zmqshell.py\", line 536, in run_cell\n      return super(ZMQInteractiveShell, self).run_cell(*args, **kwargs)\n    File \"/usr/local/lib/python3.9/dist-packages/IPython/core/interactiveshell.py\", line 2854, in run_cell\n      result = self._run_cell(\n    File \"/usr/local/lib/python3.9/dist-packages/IPython/core/interactiveshell.py\", line 2881, in _run_cell\n      return runner(coro)\n    File \"/usr/local/lib/python3.9/dist-packages/IPython/core/async_helpers.py\", line 68, in _pseudo_sync_runner\n      coro.send(None)\n    File \"/usr/local/lib/python3.9/dist-packages/IPython/core/interactiveshell.py\", line 3057, in run_cell_async\n      has_raised = await self.run_ast_nodes(code_ast.body, cell_name,\n    File \"/usr/local/lib/python3.9/dist-packages/IPython/core/interactiveshell.py\", line 3249, in run_ast_nodes\n      if (await self.run_code(code, result,  async_=asy)):\n    File \"/usr/local/lib/python3.9/dist-packages/IPython/core/interactiveshell.py\", line 3326, in run_code\n      exec(code_obj, self.user_global_ns, self.user_ns)\n    File \"<ipython-input-17-5b52ef598778>\", line 1, in <module>\n      gpt2.generate(sess, prefix=prefix, length=150)\n    File \"/usr/local/lib/python3.9/dist-packages/gpt_2_simple/gpt_2.py\", line 462, in generate\n      output = sample.sample_sequence(\n    File \"/usr/local/lib/python3.9/dist-packages/gpt_2_simple/src/sample.py\", line 67, in sample_sequence\n      context_output = step(hparams, context[:, :-1])\n    File \"/usr/local/lib/python3.9/dist-packages/gpt_2_simple/src/sample.py\", line 51, in step\n      lm_output = model.model(hparams=hparams, X=tokens,\n    File \"/usr/local/lib/python3.9/dist-packages/gpt_2_simple/src/model.py\", line 203, in model\n      h, present = block(h, 'h%d' % layer, past=past, hparams=hparams)\n    File \"/usr/local/lib/python3.9/dist-packages/gpt_2_simple/src/model.py\", line 156, in block\n      a, present = attn(norm(x, 'ln_1'), 'attn', nx, past=past, hparams=hparams)\n    File \"/usr/local/lib/python3.9/dist-packages/gpt_2_simple/src/model.py\", line 141, in attn\n      a = conv1d(a, 'c_proj', n_state)\n    File \"/usr/local/lib/python3.9/dist-packages/gpt_2_simple/src/model.py\", line 85, in conv1d\n      c = tf.reshape(tf.matmul(tf.reshape(x, [-1, nx]), tf.reshape(w, [-1, nf]))+b, start+[nf])\nNode: 'sample_sequence_1/model/h7/attn/c_proj/add/ReadVariableOp'\nDetected at node 'sample_sequence_1/model/h7/attn/c_proj/add/ReadVariableOp' defined at (most recent call last):\n    File \"/usr/lib/python3.9/runpy.py\", line 197, in _run_module_as_main\n      return _run_code(code, main_globals, None,\n    File \"/usr/lib/python3.9/runpy.py\", line 87, in _run_code\n      exec(code, run_globals)\n    File \"/usr/local/lib/python3.9/dist-packages/ipykernel_launcher.py\", line 16, in <module>\n      app.launch_new_instance()\n    File \"/usr/local/lib/python3.9/dist-packages/traitlets/config/application.py\", line 992, in launch_instance\n      app.start()\n    File \"/usr/local/lib/python3.9/dist-packages/ipykernel/kernelapp.py\", line 612, in start\n      self.io_loop.start()\n    File \"/usr/local/lib/python3.9/dist-packages/tornado/platform/asyncio.py\", line 215, in start\n      self.asyncio_loop.run_forever()\n    File \"/usr/lib/python3.9/asyncio/base_events.py\", line 601, in run_forever\n      self._run_once()\n    File \"/usr/lib/python3.9/asyncio/base_events.py\", line 1905, in _run_once\n      handle._run()\n    File \"/usr/lib/python3.9/asyncio/events.py\", line 80, in _run\n      self._context.run(self._callback, *self._args)\n    File \"/usr/local/lib/python3.9/dist-packages/tornado/ioloop.py\", line 687, in <lambda>\n      lambda f: self._run_callback(functools.partial(callback, future))\n    File \"/usr/local/lib/python3.9/dist-packages/tornado/ioloop.py\", line 740, in _run_callback\n      ret = callback()\n    File \"/usr/local/lib/python3.9/dist-packages/tornado/gen.py\", line 821, in inner\n      self.ctx_run(self.run)\n    File \"/usr/local/lib/python3.9/dist-packages/tornado/gen.py\", line 782, in run\n      yielded = self.gen.send(value)\n    File \"/usr/local/lib/python3.9/dist-packages/ipykernel/kernelbase.py\", line 365, in process_one\n      yield gen.maybe_future(dispatch(*args))\n    File \"/usr/local/lib/python3.9/dist-packages/tornado/gen.py\", line 234, in wrapper\n      yielded = ctx_run(next, result)\n    File \"/usr/local/lib/python3.9/dist-packages/ipykernel/kernelbase.py\", line 268, in dispatch_shell\n      yield gen.maybe_future(handler(stream, idents, msg))\n    File \"/usr/local/lib/python3.9/dist-packages/tornado/gen.py\", line 234, in wrapper\n      yielded = ctx_run(next, result)\n    File \"/usr/local/lib/python3.9/dist-packages/ipykernel/kernelbase.py\", line 543, in execute_request\n      self.do_execute(\n    File \"/usr/local/lib/python3.9/dist-packages/tornado/gen.py\", line 234, in wrapper\n      yielded = ctx_run(next, result)\n    File \"/usr/local/lib/python3.9/dist-packages/ipykernel/ipkernel.py\", line 306, in do_execute\n      res = shell.run_cell(code, store_history=store_history, silent=silent)\n    File \"/usr/local/lib/python3.9/dist-packages/ipykernel/zmqshell.py\", line 536, in run_cell\n      return super(ZMQInteractiveShell, self).run_cell(*args, **kwargs)\n    File \"/usr/local/lib/python3.9/dist-packages/IPython/core/interactiveshell.py\", line 2854, in run_cell\n      result = self._run_cell(\n    File \"/usr/local/lib/python3.9/dist-packages/IPython/core/interactiveshell.py\", line 2881, in _run_cell\n      return runner(coro)\n    File \"/usr/local/lib/python3.9/dist-packages/IPython/core/async_helpers.py\", line 68, in _pseudo_sync_runner\n      coro.send(None)\n    File \"/usr/local/lib/python3.9/dist-packages/IPython/core/interactiveshell.py\", line 3057, in run_cell_async\n      has_raised = await self.run_ast_nodes(code_ast.body, cell_name,\n    File \"/usr/local/lib/python3.9/dist-packages/IPython/core/interactiveshell.py\", line 3249, in run_ast_nodes\n      if (await self.run_code(code, result,  async_=asy)):\n    File \"/usr/local/lib/python3.9/dist-packages/IPython/core/interactiveshell.py\", line 3326, in run_code\n      exec(code_obj, self.user_global_ns, self.user_ns)\n    File \"<ipython-input-17-5b52ef598778>\", line 1, in <module>\n      gpt2.generate(sess, prefix=prefix, length=150)\n    File \"/usr/local/lib/python3.9/dist-packages/gpt_2_simple/gpt_2.py\", line 462, in generate\n      output = sample.sample_sequence(\n    File \"/usr/local/lib/python3.9/dist-packages/gpt_2_simple/src/sample.py\", line 67, in sample_sequence\n      context_output = step(hparams, context[:, :-1])\n    File \"/usr/local/lib/python3.9/dist-packages/gpt_2_simple/src/sample.py\", line 51, in step\n      lm_output = model.model(hparams=hparams, X=tokens,\n    File \"/usr/local/lib/python3.9/dist-packages/gpt_2_simple/src/model.py\", line 203, in model\n      h, present = block(h, 'h%d' % layer, past=past, hparams=hparams)\n    File \"/usr/local/lib/python3.9/dist-packages/gpt_2_simple/src/model.py\", line 156, in block\n      a, present = attn(norm(x, 'ln_1'), 'attn', nx, past=past, hparams=hparams)\n    File \"/usr/local/lib/python3.9/dist-packages/gpt_2_simple/src/model.py\", line 141, in attn\n      a = conv1d(a, 'c_proj', n_state)\n    File \"/usr/local/lib/python3.9/dist-packages/gpt_2_simple/src/model.py\", line 85, in conv1d\n      c = tf.reshape(tf.matmul(tf.reshape(x, [-1, nx]), tf.reshape(w, [-1, nf]))+b, start+[nf])\nNode: 'sample_sequence_1/model/h7/attn/c_proj/add/ReadVariableOp'\n2 root error(s) found.\n  (0) FAILED_PRECONDITION: Could not find variable model/h7/attn/c_proj/b. This could mean that the variable has been deleted. In TF1, it can also mean the variable is uninitialized. Debug info: container=localhost, status error message=Container localhost does not exist. (Could not find resource: localhost/model/h7/attn/c_proj/b)\n\t [[{{node sample_sequence_1/model/h7/attn/c_proj/add/ReadVariableOp}}]]\n\t [[strided_slice_1/_59]]\n  (1) FAILED_PRECONDITION: Could not find variable model/h7/attn/c_proj/b. This could mean that the variable has been deleted. In TF1, it can also mean the variable is uninitialized. Debug info: container=localhost, status error message=Container localhost does not exist. (Could not find resource: localhost/model/h7/attn/c_proj/b)\n\t [[{{node sample_sequence_1/model/h7/attn/c_proj/add/ReadVariableOp}}]]\n0 successful operations.\n0 derived errors ignored.\n\nOriginal stack trace for 'sample_sequence_1/model/h7/attn/c_proj/add/ReadVariableOp':\n  File \"/usr/lib/python3.9/runpy.py\", line 197, in _run_module_as_main\n    return _run_code(code, main_globals, None,\n  File \"/usr/lib/python3.9/runpy.py\", line 87, in _run_code\n    exec(code, run_globals)\n  File \"/usr/local/lib/python3.9/dist-packages/ipykernel_launcher.py\", line 16, in <module>\n    app.launch_new_instance()\n  File \"/usr/local/lib/python3.9/dist-packages/traitlets/config/application.py\", line 992, in launch_instance\n    app.start()\n  File \"/usr/local/lib/python3.9/dist-packages/ipykernel/kernelapp.py\", line 612, in start\n    self.io_loop.start()\n  File \"/usr/local/lib/python3.9/dist-packages/tornado/platform/asyncio.py\", line 215, in start\n    self.asyncio_loop.run_forever()\n  File \"/usr/lib/python3.9/asyncio/base_events.py\", line 601, in run_forever\n    self._run_once()\n  File \"/usr/lib/python3.9/asyncio/base_events.py\", line 1905, in _run_once\n    handle._run()\n  File \"/usr/lib/python3.9/asyncio/events.py\", line 80, in _run\n    self._context.run(self._callback, *self._args)\n  File \"/usr/local/lib/python3.9/dist-packages/tornado/ioloop.py\", line 687, in <lambda>\n    lambda f: self._run_callback(functools.partial(callback, future))\n  File \"/usr/local/lib/python3.9/dist-packages/tornado/ioloop.py\", line 740, in _run_callback\n    ret = callback()\n  File \"/usr/local/lib/python3.9/dist-packages/tornado/gen.py\", line 821, in inner\n    self.ctx_run(self.run)\n  File \"/usr/local/lib/python3.9/dist-packages/tornado/gen.py\", line 782, in run\n    yielded = self.gen.send(value)\n  File \"/usr/local/lib/python3.9/dist-packages/ipykernel/kernelbase.py\", line 365, in process_one\n    yield gen.maybe_future(dispatch(*args))\n  File \"/usr/local/lib/python3.9/dist-packages/tornado/gen.py\", line 234, in wrapper\n    yielded = ctx_run(next, result)\n  File \"/usr/local/lib/python3.9/dist-packages/ipykernel/kernelbase.py\", line 268, in dispatch_shell\n    yield gen.maybe_future(handler(stream, idents, msg))\n  File \"/usr/local/lib/python3.9/dist-packages/tornado/gen.py\", line 234, in wrapper\n    yielded = ctx_run(next, result)\n  File \"/usr/local/lib/python3.9/dist-packages/ipykernel/kernelbase.py\", line 543, in execute_request\n    self.do_execute(\n  File \"/usr/local/lib/python3.9/dist-packages/tornado/gen.py\", line 234, in wrapper\n    yielded = ctx_run(next, result)\n  File \"/usr/local/lib/python3.9/dist-packages/ipykernel/ipkernel.py\", line 306, in do_execute\n    res = shell.run_cell(code, store_history=store_history, silent=silent)\n  File \"/usr/local/lib/python3.9/dist-packages/ipykernel/zmqshell.py\", line 536, in run_cell\n    return super(ZMQInteractiveShell, self).run_cell(*args, **kwargs)\n  File \"/usr/local/lib/python3.9/dist-packages/IPython/core/interactiveshell.py\", line 2854, in run_cell\n    result = self._run_cell(\n  File \"/usr/local/lib/python3.9/dist-packages/IPython/core/interactiveshell.py\", line 2881, in _run_cell\n    return runner(coro)\n  File \"/usr/local/lib/python3.9/dist-packages/IPython/core/async_helpers.py\", line 68, in _pseudo_sync_runner\n    coro.send(None)\n  File \"/usr/local/lib/python3.9/dist-packages/IPython/core/interactiveshell.py\", line 3057, in run_cell_async\n    has_raised = await self.run_ast_nodes(code_ast.body, cell_name,\n  File \"/usr/local/lib/python3.9/dist-packages/IPython/core/interactiveshell.py\", line 3249, in run_ast_nodes\n    if (await self.run_code(code, result,  async_=asy)):\n  File \"/usr/local/lib/python3.9/dist-packages/IPython/core/interactiveshell.py\", line 3326, in run_code\n    exec(code_obj, self.user_global_ns, self.user_ns)\n  File \"<ipython-input-17-5b52ef598778>\", line 1, in <module>\n    gpt2.generate(sess, prefix=prefix, length=150)\n  File \"/usr/local/lib/python3.9/dist-packages/gpt_2_simple/gpt_2.py\", line 462, in generate\n    output = sample.sample_sequence(\n  File \"/usr/local/lib/python3.9/dist-packages/gpt_2_simple/src/sample.py\", line 67, in sample_sequence\n    context_output = step(hparams, context[:, :-1])\n  File \"/usr/local/lib/python3.9/dist-packages/gpt_2_simple/src/sample.py\", line 51, in step\n    lm_output = model.model(hparams=hparams, X=tokens,\n  File \"/usr/local/lib/python3.9/dist-packages/gpt_2_simple/src/model.py\", line 203, in model\n    h, present = block(h, 'h%d' % layer, past=past, hparams=hparams)\n  File \"/usr/local/lib/python3.9/dist-packages/gpt_2_simple/src/model.py\", line 156, in block\n    a, present = attn(norm(x, 'ln_1'), 'attn', nx, past=past, hparams=hparams)\n  File \"/usr/local/lib/python3.9/dist-packages/gpt_2_simple/src/model.py\", line 141, in attn\n    a = conv1d(a, 'c_proj', n_state)\n  File \"/usr/local/lib/python3.9/dist-packages/gpt_2_simple/src/model.py\", line 85, in conv1d\n    c = tf.reshape(tf.matmul(tf.reshape(x, [-1, nx]), tf.reshape(w, [-1, nf]))+b, start+[nf])\n  File \"/usr/local/lib/python3.9/dist-packages/tensorflow/python/util/traceback_utils.py\", line 150, in error_handler\n    return fn(*args, **kwargs)\n  File \"/usr/local/lib/python3.9/dist-packages/tensorflow/python/ops/math_ops.py\", line 1407, in binary_op_wrapper\n    return func(x, y, name=name)\n  File \"/usr/local/lib/python3.9/dist-packages/tensorflow/python/util/traceback_utils.py\", line 150, in error_handler\n    return fn(*args, **kwargs)\n  File \"/usr/local/lib/python3.9/dist-packages/tensorflow/python/util/dispatch.py\", line 1176, in op_dispatch_handler\n    return dispatch_target(*args, **kwargs)\n  File \"/usr/local/lib/python3.9/dist-packages/tensorflow/python/ops/math_ops.py\", line 1753, in _add_dispatch\n    y = ops.convert_to_tensor(y, dtype_hint=x.dtype.base_dtype, name=\"y\")\n  File \"/usr/local/lib/python3.9/dist-packages/tensorflow/python/profiler/trace.py\", line 183, in wrapped\n    return func(*args, **kwargs)\n  File \"/usr/local/lib/python3.9/dist-packages/tensorflow/python/framework/ops.py\", line 1619, in convert_to_tensor\n    ret = conversion_func(\n  File \"/usr/local/lib/python3.9/dist-packages/tensorflow/python/ops/resource_variable_ops.py\", line 2227, in _dense_var_to_tensor\n    return var._dense_var_to_tensor(dtype=dtype, name=name, as_ref=as_ref)  # pylint: disable=protected-access\n  File \"/usr/local/lib/python3.9/dist-packages/tensorflow/python/ops/resource_variable_ops.py\", line 1469, in _dense_var_to_tensor\n    return self.value()\n  File \"/usr/local/lib/python3.9/dist-packages/tensorflow/python/ops/resource_variable_ops.py\", line 584, in value\n    return self._read_variable_op()\n  File \"/usr/local/lib/python3.9/dist-packages/tensorflow/python/ops/resource_variable_ops.py\", line 706, in _read_variable_op\n    result = read_and_set_handle(no_copy)\n  File \"/usr/local/lib/python3.9/dist-packages/tensorflow/python/ops/resource_variable_ops.py\", line 696, in read_and_set_handle\n    result = gen_resource_variable_ops.read_variable_op(\n  File \"/usr/local/lib/python3.9/dist-packages/tensorflow/python/ops/gen_resource_variable_ops.py\", line 539, in read_variable_op\n    _, _, _op, _outputs = _op_def_library._apply_op_helper(\n  File \"/usr/local/lib/python3.9/dist-packages/tensorflow/python/framework/op_def_library.py\", line 795, in _apply_op_helper\n    op = g._create_op_internal(op_type_name, inputs, dtypes=None,\n  File \"/usr/local/lib/python3.9/dist-packages/tensorflow/python/framework/ops.py\", line 3798, in _create_op_internal\n    ret = Operation(\n"
          ]
        }
      ]
    },
    {
      "cell_type": "markdown",
      "source": [
        "###Saving model to Google Drive (optional)"
      ],
      "metadata": {
        "id": "zlM6aQYZSccl"
      }
    },
    {
      "cell_type": "code",
      "source": [
        "from google.colab import drive\n",
        "drive.mount('/content/drive')"
      ],
      "metadata": {
        "colab": {
          "base_uri": "https://localhost:8080/"
        },
        "id": "QYXmOFl5Bjhv",
        "outputId": "564ebb74-2ba5-403f-dc4b-c36ce1478d52"
      },
      "execution_count": null,
      "outputs": [
        {
          "output_type": "stream",
          "name": "stdout",
          "text": [
            "Mounted at /content/drive\n"
          ]
        }
      ]
    },
    {
      "cell_type": "code",
      "source": [
        "gpt2.copy_checkpoint_to_gdrive(run_name='run1')"
      ],
      "metadata": {
        "id": "3RUjr4_ZluKi"
      },
      "execution_count": null,
      "outputs": []
    },
    {
      "cell_type": "markdown",
      "source": [
        "You can find more texts e.g. on:\n",
        "https://www.gutenberg.org/cache/epub/1597/pg1597.txt\n",
        "</br></br>\n",
        "You can download them to Colab using code similar to the ones below."
      ],
      "metadata": {
        "id": "OUhaGg_uS6o5"
      }
    },
    {
      "cell_type": "code",
      "source": [
        "#!wget https://www.gutenberg.org/cache/epub/1597/pg1597.txt"
      ],
      "metadata": {
        "colab": {
          "base_uri": "https://localhost:8080/"
        },
        "id": "g7K9X3K8TEwj",
        "outputId": "d0760c42-a0e4-4dcf-b7cc-ca98aaffa2b7"
      },
      "execution_count": null,
      "outputs": [
        {
          "output_type": "stream",
          "name": "stdout",
          "text": [
            "--2023-03-21 14:49:16--  https://www.gutenberg.org/cache/epub/1597/pg1597.txt\n",
            "Resolving www.gutenberg.org (www.gutenberg.org)... 152.19.134.47, 2610:28:3090:3000:0:bad:cafe:47\n",
            "Connecting to www.gutenberg.org (www.gutenberg.org)|152.19.134.47|:443... connected.\n",
            "HTTP request sent, awaiting response... 200 OK\n",
            "Length: 329071 (321K) [text/plain]\n",
            "Saving to: ‘pg1597.txt’\n",
            "\n",
            "pg1597.txt          100%[===================>] 321.36K   800KB/s    in 0.4s    \n",
            "\n",
            "2023-03-21 14:49:22 (800 KB/s) - ‘pg1597.txt’ saved [329071/329071]\n",
            "\n"
          ]
        }
      ]
    },
    {
      "cell_type": "code",
      "source": [
        "#!wget https://www.gutenberg.org/files/98/98-0.txt"
      ],
      "metadata": {
        "id": "HYL0wij2m4Gf",
        "colab": {
          "base_uri": "https://localhost:8080/"
        },
        "outputId": "42bf360b-ce90-4a36-d434-44820124b877"
      },
      "execution_count": null,
      "outputs": [
        {
          "output_type": "stream",
          "name": "stdout",
          "text": [
            "--2023-02-22 13:25:10--  https://www.gutenberg.org/files/98/98-0.txt\n",
            "Resolving www.gutenberg.org (www.gutenberg.org)... 152.19.134.47, 2610:28:3090:3000:0:bad:cafe:47\n",
            "Connecting to www.gutenberg.org (www.gutenberg.org)|152.19.134.47|:443... connected.\n",
            "HTTP request sent, awaiting response... 200 OK\n",
            "Length: 807231 (788K) [text/plain]\n",
            "Saving to: ‘98-0.txt’\n",
            "\n",
            "98-0.txt            100%[===================>] 788.31K   718KB/s    in 1.1s    \n",
            "\n",
            "2023-02-22 13:25:12 (718 KB/s) - ‘98-0.txt’ saved [807231/807231]\n",
            "\n"
          ]
        }
      ]
    },
    {
      "cell_type": "code",
      "source": [
        "#https://github.com/matt-dray/tng-stardate/tree/master/data/scripts"
      ],
      "metadata": {
        "id": "VClsbkgRxYvR"
      },
      "execution_count": null,
      "outputs": []
    }
  ]
}